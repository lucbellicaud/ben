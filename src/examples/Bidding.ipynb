{
 "cells": [
  {
   "cell_type": "markdown",
   "id": "75d07246",
   "metadata": {},
   "source": [
    "# Bidding\n",
    "\n",
    "This is a tutorial for how to use the bidding engine"
   ]
  },
  {
   "cell_type": "code",
   "execution_count": 1,
   "id": "59a5664c",
   "metadata": {},
   "outputs": [],
   "source": [
    "import os\n",
    "os.chdir('..')\n",
    "\n",
    "from nn.models import Models\n",
    "from bots import BotBid\n",
    "from bidding import bidding\n",
    "from util import hand_to_str\n",
    "from deck52 import random_deal\n",
    "from sample import Sample\n",
    "import conf\n",
    "import numpy as np\n",
    "\n",
    "np.set_printoptions(precision=2, suppress=True, linewidth=200)\n"
   ]
  },
  {
   "cell_type": "code",
   "execution_count": 2,
   "id": "44786d5d",
   "metadata": {},
   "outputs": [
    {
     "name": "stdout",
     "output_type": "stream",
     "text": [
      "WARNING:tensorflow:From c:\\Python311\\Lib\\site-packages\\tensorflow\\python\\compat\\v2_compat.py:107: disable_resource_variables (from tensorflow.python.ops.variable_scope) is deprecated and will be removed in a future version.\n",
      "Instructions for updating:\n",
      "non-resource variables are not supported in the long term\n",
      "INFO:tensorflow:Restoring parameters from ..\\UCBC 2024/Models/NS1EW99-bidding_same-5556000\n",
      "INFO:tensorflow:Restoring parameters from ..\\UCBC 2024/Models/NS1EW99-binfo_same-5556000\n",
      "INFO:tensorflow:Restoring parameters from ..\\UCBC 2024/Models/lead_suit-999000\n",
      "INFO:tensorflow:Restoring parameters from ..\\UCBC 2024/Models/lead_nt-475000\n",
      "INFO:tensorflow:Restoring parameters from ..\\UCBC 2024/Models/Jack/lr3-1000000\n",
      "INFO:tensorflow:Restoring parameters from ..\\UCBC 2024/Models/single_dummy-32768000\n",
      "INFO:tensorflow:Restoring parameters from ..\\UCBC 2024/Models/lefty_nt-475000\n",
      "INFO:tensorflow:Restoring parameters from ..\\UCBC 2024/Models/dummy_nt-475000\n",
      "INFO:tensorflow:Restoring parameters from ..\\UCBC 2024/Models/righty_nt-475000\n",
      "INFO:tensorflow:Restoring parameters from ..\\UCBC 2024/Models/decl_nt-950000\n",
      "INFO:tensorflow:Restoring parameters from ..\\UCBC 2024/Models/lefty_suit-999000\n",
      "INFO:tensorflow:Restoring parameters from ..\\UCBC 2024/Models/dummy_suit-999000\n",
      "INFO:tensorflow:Restoring parameters from ..\\UCBC 2024/Models/righty_suit-999000\n",
      "INFO:tensorflow:Restoring parameters from ..\\UCBC 2024/Models/decl_suit-1278000\n"
     ]
    }
   ],
   "source": [
    "models = Models.from_conf(conf.load('./config/default.conf'),'..')   # loading neural networks\n",
    "sampler = Sample.from_conf(conf.load('./config/default.conf'))  # Load sampling strategies"
   ]
  },
  {
   "cell_type": "markdown",
   "id": "10d8f2fc",
   "metadata": {},
   "source": [
    "### Running through an example"
   ]
  },
  {
   "cell_type": "code",
   "execution_count": 3,
   "id": "19dbfeb7",
   "metadata": {},
   "outputs": [
    {
     "name": "stderr",
     "output_type": "stream",
     "text": [
      "Loaded lib dds.dll\n"
     ]
    },
    {
     "data": {
      "text/plain": [
       "[{'call': '4H', 'insta_score': 0.404, 'expected_score': 336, 'adjustment': 20},\n",
       " {'call': 'X', 'insta_score': 0.339, 'expected_score': 290, 'adjustment': 17},\n",
       " {'call': 'PASS',\n",
       "  'insta_score': 0.251,\n",
       "  'expected_score': 160,\n",
       "  'adjustment': 13}]"
      ]
     },
     "execution_count": 3,
     "metadata": {},
     "output_type": "execute_result"
    }
   ],
   "source": [
    "\n",
    "vuln_ns, vuln_ew = False, False\n",
    "\n",
    "# you sit West and hold:\n",
    "hand = '6.AKJT82.762.K63'\n",
    "\n",
    "# the auction goes:\n",
    "auction = ['1D', '3S']\n",
    "bot_bid = BotBid([vuln_ns, vuln_ew], hand, models, sampler, seat=2, dealer=0, verbose=False)\n",
    "\n",
    "bid = bot_bid.bid(auction)\n",
    "bid.to_dict()['candidates']\n",
    "\n",
    "# what's your bid?"
   ]
  },
  {
   "cell_type": "code",
   "execution_count": 4,
   "id": "bfe98f56",
   "metadata": {},
   "outputs": [
    {
     "data": {
      "text/plain": [
       "[{'call': 'PASS', 'insta_score': 0.965}]"
      ]
     },
     "execution_count": 4,
     "metadata": {},
     "output_type": "execute_result"
    }
   ],
   "source": [
    "auction = ['1D', '3S', '4H', '4S', '5H', 'PASS']\n",
    "bid = bot_bid.bid(auction)\n",
    "bid.to_dict()['candidates']"
   ]
  },
  {
   "cell_type": "markdown",
   "id": "ad120123",
   "metadata": {},
   "source": [
    "in the output above:\n",
    "- `insta_score` reflects what the neural network prefers to bid\n",
    "- `expected_score` is based on what you expect to score on difference samples (for example, 70% of the time you are making and 30% of the time you are going one off, then the expected score is 0.7 * 620 - 0.3 * 100)"
   ]
  },
  {
   "cell_type": "markdown",
   "id": "051ff121",
   "metadata": {},
   "source": [
    "### Samples consistent with the auction so far\n",
    "\n",
    "Above we said that we are computig expected scores on samples consistent with the auction so far.\n",
    "\n",
    "How do we get these samples?\n",
    "\n",
    "We get some samples in the response we get from the bot (i.e `bid.samples`)"
   ]
  },
  {
   "cell_type": "code",
   "execution_count": 5,
   "id": "55b647a5",
   "metadata": {},
   "outputs": [
    {
     "data": {
      "text/plain": [
       "[]"
      ]
     },
     "execution_count": 5,
     "metadata": {},
     "output_type": "execute_result"
    }
   ],
   "source": [
    "bid.samples"
   ]
  },
  {
   "cell_type": "markdown",
   "id": "7d0dd8f5",
   "metadata": {},
   "source": [
    "each row is one sample. the hands are in the order: N E S W\n",
    "\n",
    "(West always has the same cards because it's your hand and it's known to you)"
   ]
  },
  {
   "cell_type": "code",
   "execution_count": 6,
   "id": "7101e514",
   "metadata": {},
   "outputs": [
    {
     "name": "stdout",
     "output_type": "stream",
     "text": [
      "Good quality: True\n",
      "x.AKJT8x.xxx.Kxx JTxx..AK9x.AJ98x 9xxx.Q9x.QTxx.Tx AKQ8.xxxx.J8.Qxx\n",
      "x.AKJT8x.xxx.Kxx AQ8x.9x.K98x.Txx T9xx..ATxx.QJ98x KJxx.Qxxxx.QJ.Ax\n",
      "x.AKJT8x.xxx.Kxx K9xx.x.AJ9.AQJTx ATxx.Q9x.QTxx.8x QJ8x.xxx.K8x.9xx\n",
      "x.AKJT8x.xxx.Kxx AKTxx.x.KQTx.9xx xxx.Q9xx.98xx.Tx QJ98.xx.AJ.AQJ8x\n",
      "x.AKJT8x.xxx.Kxx AKQ.x.AT8x.AT98x Txxx.xx.KJx.QJxx J98xx.Q9xx.Q9x.x\n",
      "x.AKJT8x.xxx.Kxx Kxxx.xx.QTx.AJxx QJ9x.Q9.KJ8x.QT8 AT8x.xxx.A9x.9xx\n",
      "x.AKJT8x.xxx.Kxx AKT9x.xx.Ax.AT8x Q8x.x.QJ8xx.Q9xx Jxxx.Q9xx.KT9.Jx\n",
      "x.AKJT8x.xxx.Kxx AKx.Qxx.ATx.QJ8x QJ8xx.9xx.Q8.Txx T9xx.x.KJ9xx.A9x\n",
      "x.AKJT8x.xxx.Kxx AKxx.xxx.Ax.AJ9x 98xx.x.KJT9x.QTx QJTx.Q9x.Q8x.8xx\n",
      "x.AKJT8x.xxx.Kxx J9xx.xx.Ax.AJT8x KTxx.9x.KQJT.Qxx AQ8x.Qxx.98xx.9x\n",
      "x.AKJT8x.xxx.Kxx Kxx.Qxx.KJ8.AQ9x AJ98x.x.Qxxx.8xx QTxx.9xx.AT9.JTx\n",
      "x.AKJT8x.xxx.Kxx A9x.9xx.AK.Q8xxx QJxxx.Q.QJT8.T9x KT8x.xxx.9xxx.AJ\n",
      "x.AKJT8x.xxx.Kxx QJT98..KQT.AQJT9 xxxxx.Qxx.98x.8x AK.9xxx.AJxx.xxx\n",
      "x.AKJT8x.xxx.Kxx KJT.Qx.A8x.JT9xx Q9xxxx.9.KQJ9.Qx A8x.xxxx.Txx.A8x\n",
      "x.AKJT8x.xxx.Kxx Jxx.Q.AK98.AQJT9 AT8xx.9x.Qxx.xxx KQ9x.xxxx.JTx.8x\n",
      "x.AKJT8x.xxx.Kxx K9xx.9x.Kxx.J9xx T8xx.Qxx.AT9.QTx AQJx.xx.QJ8x.A8x\n",
      "x.AKJT8x.xxx.Kxx AKQxx.x.Axxx.Axx T9xx.xx.KQ9.JT8x J8x.Q9xx.JT8.Q9x\n",
      "x.AKJT8x.xxx.Kxx Axxx.Qx.AK9.A9xx Q98x.xx.QT8x.QJx KJTx.9xx.Jxx.T8x\n",
      "x.AKJT8x.xxx.Kxx A98x.Q9x.KQx.AJT QJTx.x.T9x.Q98xx Kxxx.xxx.AJ8x.xx\n",
      "x.AKJT8x.xxx.Kxx AKTx.9x.K8x.T98x 9xxxx.x.AQT9x.xx QJ8.Qxxx.Jx.AQJx\n",
      "x.AKJT8x.xxx.Kxx AKQT8.Qx.AK.JT8x J9xx.9.J98x.9xxx xxx.xxxx.QTxx.AQ\n",
      "x.AKJT8x.xxx.Kxx K8x.Qx.AQT.J8xxx ATxxx.xx.KJ8xx.x QJ9x.9xx.9x.AQT9\n",
      "x.AKJT8x.xxx.Kxx A98xxx.x.AK.AJ9x KJx.9x.QT8xx.8xx QTx.Qxxx.J9x.QTx\n",
      "x.AKJT8x.xxx.Kxx AKJx.x.AT8x.AJxx Qxxx.xx.J9x.QT9x T98x.Q9xx.KQx.8x\n",
      "x.AKJT8x.xxx.Kxx AK8x.x.Q98.AQJ8x J9xx.xx.Jxxx.9xx QTxx.Q9xx.AKT.Tx\n",
      "x.AKJT8x.xxx.Kxx K8xx.xxx.AKxx.A9 T9xx.xx.JT8.Txxx AQJx.Q9.Q9x.QJ8x\n",
      "x.AKJT8x.xxx.Kxx KJx.9x.AKQ.AQJxx AT9x.Qx.J98xx.9x Q8xxx.xxx.Tx.T8x\n",
      "x.AKJT8x.xxx.Kxx K8x.Qx.AKxx.9xxx QT9xxx.9.Q9x.T8x AJx.xxxx.JT8.AQJ\n",
      "x.AKJT8x.xxx.Kxx 8xx.xx.AK9.QJ9xx KQJxx.xx.JTxx.Tx AT9x.Q9x.Q8x.A8x\n",
      "x.AKJT8x.xxx.Kxx xx.Qxx.AJ8.A8xxx Q8xxx..KT9xx.QJ9 AKJT9.9xxx.Qx.Tx\n",
      "x.AKJT8x.xxx.Kxx AKxx.Qx.K9x.AQxx J8xx.9x.JT8x.T98 QT9x.xxx.AQx.Jxx\n",
      "x.AKJT8x.xxx.Kxx AKTx.9x.KQT.A8xx Q9xx.x.J98xx.QJx J8xx.Qxxx.Ax.T9x\n",
      "x.AKJT8x.xxx.Kxx A98x.Q.AKT9.9xxx QJxx.9xx.Qxx.T8x KTxx.xxx.J8x.AQJ\n",
      "x.AKJT8x.xxx.Kxx AT9.x.AT8xx.AJTx KQxx.xx.QJ9x.Q98 J8xxx.Q9xx.K.xxx\n",
      "x.AKJT8x.xxx.Kxx A9x.xxx.T9xx.Axx JT8xx.Q9.AKJ8.J9 KQxx.xx.Qx.QT8xx\n",
      "x.AKJT8x.xxx.Kxx AKx.xx.9x.AQJT8x QJT8xx.Q.QJT8x.x 9xx.9xxx.AKx.9xx\n",
      "x.AKJT8x.xxx.Kxx JT9xx.9x.KJx.AT9 K8xx.x.AT98x.Jxx AQx.Qxxx.Qx.Q8xx\n",
      "x.AKJT8x.xxx.Kxx AQxx.9xx.9x.AT9x KJxx.x.AJT8x.J8x T98x.Qxx.KQx.Qxx\n",
      "x.AKJT8x.xxx.Kxx Txxx.Q9.AKT.AT9x AJ9xx.x.J8x.Q8xx KQ8.xxxx.Q9xx.Jx\n",
      "x.AKJT8x.xxx.Kxx AKQx.9xx.KT98.Tx JTxx.Qx.QJxx.Q9x 98xx.xx.Ax.AJ8xx\n",
      "x.AKJT8x.xxx.Kxx QJ8.xx.AQJT9.A9x K9xxx.xx.8xx.Jxx ATxx.Q9x.Kx.QT8x\n",
      "x.AKJT8x.xxx.Kxx J9x.Qx.AK8xx.A9x KQ8xx.x.JT9.QJ8x ATxx.9xxx.Qx.Txx\n",
      "x.AKJT8x.xxx.Kxx KQJxxx.x.AKx.Jxx 98.xxx.JT98x.T9x ATxx.Q9x.Qx.AQ8x\n",
      "x.AKJT8x.xxx.Kxx KTx.xxx.AKQx.QJT QJ9xx.x.J9xx.8xx A8xx.Q9x.T8.A9xx\n",
      "x.AKJT8x.xxx.Kxx AKT98.9x.AQ8.Axx xxx.Qxx.JTxx.JTx QJxx.xx.K9x.Q98x\n",
      "x.AKJT8x.xxx.Kxx A9xx.9xxx.AK.Axx QJ8x.Qx.JT98x.J9 KTxx.x.Qxx.QT8xx\n",
      "x.AKJT8x.xxx.Kxx K9xx.Qxx.Kxx.AQx AQx..QJTx.T98xxx JT8xx.9xxx.A98.J\n",
      "x.AKJT8x.xxx.Kxx AKT9x.Q.Q9x.T8xx Qxx.9xx.J8x.AQ9x J8xx.xxx.AKTx.Jx\n",
      "x.AKJT8x.xxx.Kxx KQx.Qx.AKT.Qxxxx Txxx.x.Q98xx.T98 AJ98x.9xxx.Jx.AJ\n",
      "x.AKJT8x.xxx.Kxx KJxx.xx.KJ9x.AQ8 AT9x.9.QT8x.Jxxx Q8xx.Qxxx.Ax.T9x\n",
      "x.AKJT8x.xxx.Kxx AQJ.9xx.KTx.AJxx Txxxx.x.AJ98x.Tx K98x.Qxx.Qx.Q98x\n",
      "x.AKJT8x.xxx.Kxx Kxx.xx.A9xx.AQTx A98x.Q.KJT8.Jxxx QJTxx.9xxx.Qx.98\n",
      "x.AKJT8x.xxx.Kxx KQxx.xxx.KJ.ATxx AJTx.x.QT9xx.Q98 98xx.Q9x.A8x.Jxx\n",
      "x.AKJT8x.xxx.Kxx AKxxxx.9xx.Kxx.x T9.Qx.JT9x.AJTxx QJ8x.xx.AQ8.Q98x\n",
      "x.AKJT8x.xxx.Kxx AJTx.xx.AKx.QJTx K9xx..QJT98.8xxx Q8xx.Q9xxx.xx.A9\n",
      "x.AKJT8x.xxx.Kxx KTx.Qx.AKQ.AQJ8x QJxxx.x.JT8x.9xx A98x.9xxx.9xx.Tx\n",
      "x.AKJT8x.xxx.Kxx Txxx.9x.AK8.AQ9x AQJ9.xx.Jxxx.JTx K8xx.Qxx.QT9.8xx\n",
      "x.AKJT8x.xxx.Kxx Ax.Qxx.9xx.AQJ8x KQJTxx.9x.JTx.Tx 98xx.xx.AKQ8.9xx\n",
      "x.AKJT8x.xxx.Kxx Axx.xx.AKQ9.AQTx KQT8xx.x.T8x.9xx J9x.Q9xx.Jxx.J8x\n",
      "x.AKJT8x.xxx.Kxx J8xx.Qx.AKQT.A9x A9xx.xx.J9xx.QTx KQTx.9xx.8x.J8xx\n",
      "x.AKJT8x.xxx.Kxx J9.Qx.AK9x.AQTxx KTxxxx.9xx.8x.8x AQ8x.xx.QJTx.J9x\n",
      "x.AKJT8x.xxx.Kxx KQJ9.9xx.AKQ.QJ9 T8xx.Q.J9xx.8xxx Axxx.xxx.T8x.ATx\n",
      "x.AKJT8x.xxx.Kxx AQJ.9xx.Q8.AQT9x Txxxx.x.AJT9x.J8 K98x.Qxx.Kxx.xxx\n",
      "x.AKJT8x.xxx.Kxx Axx.9xx.KT8.Axxx KJT8x.xx.QJxx.QJ Q9xx.Qx.A9x.T98x\n",
      "x.AKJT8x.xxx.Kxx Axx.Qx.AJxx.A9xx K9xxx.xx.K9x.Jxx QJT8.9xx.QT8.QT8\n",
      "x.AKJT8x.xxx.Kxx Q98xx.Qx.Ax.AQJT KJxxx.x.QT8x.xxx AT.9xxx.KJ9x.98x\n",
      "x.AKJT8x.xxx.Kxx KT8x.Qxx.ATx.AT9 AJ9x.9xx.KJ8x.Jx Qxxx.x.Q9x.Q8xxx\n",
      "x.AKJT8x.xxx.Kxx KQJx.Qxxx.A9.A8x T8xx.x.QJ8xxx.QJ A9xx.9x.KT.T9xxx\n",
      "x.AKJT8x.xxx.Kxx AK8x.xxx.9.AJT8x JTxx.Qx.QJ8xx.Qx Q9xx.9x.AKTx.9xx\n",
      "x.AKJT8x.xxx.Kxx AKQT9xx.xx.KQx.x Jxx.x.T98x.Q98xx 8x.Q9xx.AJx.AJTx\n",
      "x.AKJT8x.xxx.Kxx A98x.xx.xx.AQJ8x KQxx.Qx.QJT98.xx JTxx.9xx.AKx.T9x\n",
      "x.AKJT8x.xxx.Kxx AKxx.x.KQT9x.Axx JT8xx.Qx.Jx.QJ98 Q9x.9xxx.A8x.Txx\n",
      "x.AKJT8x.xxx.Kxx AKTx.Qxx.AKQ8x.x J9xx.9xx.9x.QT9x Q8xx.x.JTx.AJ8xx\n",
      "x.AKJT8x.xxx.Kxx AQ9xx.xx.Ax.JT8x xx.x.KQJT98x.Q9x KJT8x.Q9xx.x.Axx\n",
      "x.AKJT8x.xxx.Kxx Qxx.x.AKQx.8xxxx KT9xx.xx.J8xx.T9 AJ8x.Q9xx.T9.AQJ\n",
      "x.AKJT8x.xxx.Kxx AK8.Qxx.Tx.AJ98x QT9xx.9xx.AQJx.x Jxxx.x.K98x.QTxx\n",
      "x.AKJT8x.xxx.Kxx AKJx.Qx.AJxx.QJx Q9xx.9xx.QT9.Txx T8xx.xx.K8x.A98x\n",
      "x.AKJT8x.xxx.Kxx AK.Qx.AK9x.ATxxx QJ8xxx.9x.Tx.J8x T9xx.xxx.QJ8x.Q9\n",
      "x.AKJT8x.xxx.Kxx AKQT.9x.K8xx.AQT J8xx.xxx.QJ.Jxxx 9xxx.Qx.AT9x.98x\n",
      "x.AKJT8x.xxx.Kxx 98xxx.xx.AK9.Qxx Txx.Qx.QJ8x.AJT8 AKQJ.9xx.Txx.9xx\n",
      "x.AKJT8x.xxx.Kxx KQ8x.xx.AK8x.Txx AJTxx.x.T9xx.AQ8 9xx.Q9xx.QJ.J9xx\n",
      "x.AKJT8x.xxx.Kxx AJxx.9.KJ8.A98xx 8xx.xx.T9xx.QJTx KQT9x.Qxxx.AQx.x\n",
      "x.AKJT8x.xxx.Kxx AT9xx.xx.K.AJT9x 8xx.Qx.Q98xx.Qxx KQJx.9xx.AJTx.8x\n",
      "x.AKJT8x.xxx.Kxx A98x.xx.KQT8.A9x KQTx.Q.9xxx.Txxx Jxxx.9xxx.AJ.QJ8\n",
      "x.AKJT8x.xxx.Kxx AT9xx.xx.K9.AT8x Jxx.xx.AJT8x.QJx KQ8x.Q9x.Qxx.9xx\n",
      "x.AKJT8x.xxx.Kxx AK9.Qxx.AKJ8.Axx Jxx.xx.QTxxx.Q9x QT8xxx.9x.9.JT8x\n",
      "x.AKJT8x.xxx.Kxx K8xx.xxx.AK.AJxx AJ9x.x.QJTxx.8xx QTxx.Q9x.98x.QT9\n",
      "x.AKJT8x.xxx.Kxx KJTx.9x.A8x.AJ9x Q9xx.Qx.KQ9x.T8x A8xx.xxx.JTx.Qxx\n",
      "x.AKJT8x.xxx.Kxx K8xx.9x.AT98.AQT T9xx.Qxx.KJxx.xx AQJx.xx.Qx.J98xx\n",
      "x.AKJT8x.xxx.Kxx AT8xx.Qx.KQ9.AT9 9xxx.x.Axx.Q8xxx KQJ.9xxx.JT8x.Jx\n",
      "x.AKJT8x.xxx.Kxx KQ9x.Q9x.K8xx.Jx JT8x.x.AQT.AT9xx Axxx.xxx.J9x.Q8x\n",
      "x.AKJT8x.xxx.Kxx AQxxx.Qx.AKQ9.9x KT98x.x.T8xx.Txx Jx.9xxx.Jx.AQJ8x\n",
      "x.AKJT8x.xxx.Kxx Kxx.Q.AJx.J9xxxx T98xx.xxx.9xx.A8 AQJx.9xx.KQT8.QT\n",
      "x.AKJT8x.xxx.Kxx KQ.Qx.KQJ9x.A9xx J98xxx.xx.Tx.JTx ATxx.9xx.A8x.Q8x\n",
      "x.AKJT8x.xxx.Kxx Kxxxx.x.QJ9.QT98 AJT.Qxx.Txxx.Axx Q98x.9xx.AK8.Jxx\n",
      "x.AKJT8x.xxx.Kxx A8xx.9xxx.AJ8.J9 QJ9x.Qx.QT9x.A8x KTxx.x.Kxx.QTxxx\n",
      "x.AKJT8x.xxx.Kxx AKT8x.9x.QT9.Jxx xxx.xx.KJ8x.AQTx QJ9x.Qxx.Axx.98x\n",
      "x.AKJT8x.xxx.Kxx AKQTx.x.K8.JT9xx xxx.9xx.AJTxx.Ax J98x.Qxx.Q9x.Q8x\n",
      "x.AKJT8x.xxx.Kxx K8xx.Qx.K8x.AJT9 JT9x.xx.AQT.Q8xx AQxx.9xx.J9xx.xx\n",
      "x.AKJT8x.xxx.Kxx KJTxx.9x.KQ9x.Qx A9xx.Q.J8xx.T9xx Q8x.xxxx.AT.AJ8x\n",
      "x.AKJT8x.xxx.Kxx A8x.x.AKT8.Q9xxx Q9xxx.xx.QJxx.J8 KJTx.Q9xx.9x.ATx\n",
      "x.AKJT8x.xxx.Kxx AT9x.x.KQ9.QJT9x QJ8xx.xx.Txxx.Ax Kxx.Q9xx.AJ8.8xx\n",
      "x.AKJT8x.xxx.Kxx Txx.9x.AKJ8.ATxx KJ9xxx.x.9x.J98x AQ8.Qxxx.QTxx.Qx\n",
      "x.AKJT8x.xxx.Kxx AT8x.xx.Ax.AQJTx QJ9x.x.KQT8x.xxx Kxxx.Q9xx.J9x.98\n",
      "x.AKJT8x.xxx.Kxx AKx.xxx.Axx.AJT9 Q9xxx.Q9x.J9.Qxx JT8x.x.KQT8x.8xx\n",
      "x.AKJT8x.xxx.Kxx AKT8.9x.AQTx.9xx QJx.x.K98xx.JTxx 9xxxx.Qxxx.J.AQ8\n",
      "x.AKJT8x.xxx.Kxx Kx.9x.AJ8x.AJxxx T98xx.Q.KQ9xx.98 AQJxx.xxxx.T.QTx\n",
      "x.AKJT8x.xxx.Kxx AKQx.xx.AK9.T98x T8x.x.JT8xxx.AJx J9xxx.Q9xx.Q.Qxx\n",
      "x.AKJT8x.xxx.Kxx KQTx.xx.K8x.ATxx AJ8x.Qx.QJT9x.Qx 9xxx.9xx.Ax.J98x\n",
      "x.AKJT8x.xxx.Kxx KJxx.xx.AT8x.A98 QT8x.9.KQx.QJTxx A9xx.Qxxx.J9x.xx\n",
      "x.AKJT8x.xxx.Kxx AKJ.9x.KQ9x.Axxx 9xxxx.Qxx.JTx.Jx QT8x.xx.A8x.QT98\n",
      "x.AKJT8x.xxx.Kxx K8xx.xx.AKQx.T9x ATxx.9x.T9xx.Jxx QJ9x.Qxx.J8.AQ8x\n",
      "x.AKJT8x.xxx.Kxx Q8xx.9x.AKx.QTxx KJTx.x.QT9xx.A8x A9xx.Qxxx.J8.J9x\n",
      "x.AKJT8x.xxx.Kxx AKQ9.9x.K9.ATxxx JT8x.xx.QTx.Q98x xxxx.Qxx.AJ8xx.J\n",
      "x.AKJT8x.xxx.Kxx Kxx.xx.AK9x.9xxx QJxxx.x.Q8xx.AJx AT98.Q9xx.JT.QT8\n",
      "x.AKJT8x.xxx.Kxx AKQJx.x.A98.A9xx Txx.xx.QJxx.JTxx 98xx.Q9xx.KTx.Q8\n",
      "x.AKJT8x.xxx.Kxx K98x.xx.JT9.AJxx QTxx.Qx.AKxx.T8x AJxx.9xx.Q8x.Q9x\n",
      "x.AKJT8x.xxx.Kxx Txxx.Q.AKT9.A98x QJ9x.xx.QJ8xx.Qx AK8x.9xxx.x.JTxx\n",
      "x.AKJT8x.xxx.Kxx KJ8x..AKQT9x.A9x AT9x.xxx.8x.J8xx Qxxx.Q9xx.Jx.QTx\n",
      "x.AKJT8x.xxx.Kxx JTx.xxx.AKT.AQxx K98x..QJ9xx.J8xx AQxxx.Q9xx.8x.T9\n",
      "x.AKJT8x.xxx.Kxx T9xx.9.Txx.AT9xx Axx.xx.KJ98x.QJ8 KQJ8x.Qxxx.AQ.xx\n",
      "x.AKJT8x.xxx.Kxx AKx.Qxx.AK8x.Txx QJ98x.x.QJ9x.J98 Txxx.9xx.Tx.AQxx\n",
      "x.AKJT8x.xxx.Kxx AKJ8x.Qx.AKx.ATx xxx.x.98xx.QJ9xx QT9x.9xxx.QJT.8x\n",
      "x.AKJT8x.xxx.Kxx KQJ8x.Q9x.Ax.ATx 9xx.xxx.QJTx.J8x ATxx.x.K98x.Q9xx\n",
      "x.AKJT8x.xxx.Kxx KT8x.9x.ATxx.J8x Jxxx.xx.KQ9x.Q9x AQ9x.Qxx.J8.ATxx\n",
      "x.AKJT8x.xxx.Kxx 98xx.9x.AKJx.AJT ATxx.Qxx.T9x.Q8x KQJx.xx.Q8x.9xxx\n",
      "x.AKJT8x.xxx.Kxx AJxx.9x.Ax.AQ8xx KQ8x.xx.QJTxx.9x T9xx.Qxx.K98.JTx\n",
      "x.AKJT8x.xxx.Kxx AKTx.Qxx.QT.AQxx Qxxxx..J98x.T98x J98.9xxx.AKxx.Jx\n",
      "x.AKJT8x.xxx.Kxx AKQ8x.9x.T9.AJTx JTxx.x.AJ8xxx.Q9 9xx.Qxxx.KQ.8xxx\n",
      "x.AKJT8x.xxx.Kxx AKx.9x.ATx.ATxxx JT9xx.Qx.Q8x.J9x Q8xx.xxx.KJ9x.Q8\n",
      "x.AKJT8x.xxx.Kxx AK8xx.Q9.AKT8.T8 xxx.xx.Q9xx.QJxx QJT9.xxx.Jx.A9xx\n",
      "x.AKJT8x.xxx.Kxx AQ9x.xx.AJx.AQ9x J8xx.x.KQT98x.8x KTxx.Q9xx.x.JTxx\n",
      "x.AKJT8x.xxx.Kxx Jxx.Q9.AKJ9x.J8x KQ8xx.xxx.Tx.Qxx AT9x.xx.Q8x.AT9x\n",
      "x.AKJT8x.xxx.Kxx KTxx.Qxxx.T.ATxx J8xx.x.KQJxx.QJx AQ9x.9x.A98x.98x\n",
      "x.AKJT8x.xxx.Kxx AT8x.xxxx..AQT9x J9xx.Q.AQJ98.J8x KQxx.9x.KTxxx.xx\n",
      "x.AKJT8x.xxx.Kxx AKQJ.x.AK9.J8xxx 98xxx.xx.Q8x.A9x Txx.Q9xx.JTxx.QT\n",
      "x.AKJT8x.xxx.Kxx AQ8x.xx.AQ9x.AJx JTxx.xx.KJx.Q98x K9xx.Q9x.T8x.Txx\n",
      "x.AKJT8x.xxx.Kxx AKxx.x.Axx.Q8xxx QJTx.xx.QJ9x.T9x 98xx.Q9xx.KT8.AJ\n",
      "x.AKJT8x.xxx.Kxx KQ8x.x.KTxx.AJxx AT9x.Qx.Q8x.QTxx Jxxx.9xxx.AJ9.98\n",
      "x.AKJT8x.xxx.Kxx AKTx.xx.Kx.A8xxx 98xx..AJT98x.QT9 QJxx.Q9xxx.Qx.Jx\n",
      "x.AKJT8x.xxx.Kxx AKx.Q9.AKJ9x.QJ9 QJ9x.xx.QTx.Axxx T8xxx.xxx.8x.T8x\n",
      "x.AKJT8x.xxx.Kxx Qxxx.xx.KQx.AQxx AKx.Q.T98xx.JTxx JT98x.9xxx.AJ.98\n",
      "x.AKJT8x.xxx.Kxx A8xxx.9xxx.Tx.98 KTx.Qx.KJ98x.QJx QJ9x.x.AQx.ATxxx\n",
      "x.AKJT8x.xxx.Kxx AKTx.9xx.AKJ.9xx Qxxx.xx.Q9xx.J8x J98x.Qx.T8x.AQTx\n",
      "x.AKJT8x.xxx.Kxx A9x.x.AKJ98.AQTx JT8xx.Qxx.Qx.9xx KQxx.9xx.Txx.J8x\n",
      "x.AKJT8x.xxx.Kxx AK9x.Qx.T.AQJ98x QJ8x.xx.KJ98x.xx Txxx.9xx.AQxx.Tx\n",
      "x.AKJT8x.xxx.Kxx AKJ.x.KQTx.AQJTx Txxxx.Qx.9xx.9xx Q98x.9xxx.AJ8.8x\n",
      "x.AKJT8x.xxx.Kxx J8x.Qx.KT.AJT9xx KQxx.x.QJ9xxx.Qx AT9xx.9xxx.A8.8x\n",
      "x.AKJT8x.xxx.Kxx JTx.9x.AKT.AT8xx Q9xxx.x.Qxxx.J9x AK8x.Qxxx.J98.Qx\n",
      "x.AKJT8x.xxx.Kxx AKx.xxx.AKQx.xxx T8xxx.Q9.Jx.J98x QJ9x.xx.T98x.AQT\n",
      "x.AKJT8x.xxx.Kxx AQ9.xxx.8xx.AJ9x JTxxx.Q.AQJT.Txx K8xx.9xx.K9x.Q8x\n",
      "x.AKJT8x.xxx.Kxx AQ8x.x.K9x.A8xxx Jxxx.x.AJTxx.JT9 KT9x.Q9xxx.Q8.Qx\n",
      "x.AKJT8x.xxx.Kxx 9xx.xx.AKQJTx.Ax KQJTx.Qx.98x.Txx A8xx.9xx.x.QJ98x\n",
      "x.AKJT8x.xxx.Kxx xxx.xx.AJ9.ATxxx KJT8x.x.KQTxx.Qx AQ9x.Q9xx.8x.J98\n",
      "x.AKJT8x.xxx.Kxx K8xx.Qxx.AJT.Txx QJxx.9x.Q8xxx.J8 AT9x.xx.K9.AQ9xx\n",
      "x.AKJT8x.xxx.Kxx AKx.Qx.KT98x.Axx QJT8x.xxx.xx.QJ8 9xxx.9x.AQJ.T9xx\n",
      "x.AKJT8x.xxx.Kxx JT9x.Qx.xx.AQJ9x Q8xx.xxx.KQ98.8x AKxx.9x.AJTx.Txx\n",
      "x.AKJT8x.xxx.Kxx QT8x..ATx.AQJT9x KJxx.Q9x.KQ8x.8x A9xx.xxxx.J9x.xx\n",
      "x.AKJT8x.xxx.Kxx AKJx.xx.AKTx.J9x T9xx.xx.J98x.ATx Q8xx.Q9x.Qx.Q8xx\n",
      "x.AKJT8x.xxx.Kxx KQ98.Qx.AKTx.9xx JTxxx.x.QJ8x.ATx Axx.9xxx.9x.QJ8x\n",
      "x.AKJT8x.xxx.Kxx Q98x.xx.A98.AQT9 AJxx.xx.QJTx.J8x KTxx.Q9x.Kxx.xxx\n",
      "x.AKJT8x.xxx.Kxx K8x.9x.AT9x.QJ8x QJxxx.xx.KQ8x.Tx AT9x.Qxx.Jx.A9xx\n",
      "x.AKJT8x.xxx.Kxx 98xxx.xx.KJ.AQTx KQx.9x.AT9xx.Jxx AJTx.Qxx.Q8x.98x\n",
      "x.AKJT8x.xxx.Kxx AT8x.9xx.x.JT9xx Jxxx.Qx.KQT98.Q8 KQ9x.xx.AJxx.Axx\n",
      "x.AKJT8x.xxx.Kxx K9x.9.AK8.A98xxx JT8xx.xx.QJxxx.x AQxx.Qxxx.T9.QJT\n",
      "x.AKJT8x.xxx.Kxx AKxx.xx.KJT9.AQJ J9xx.9x.Q8xxx.8x QT8x.Qxx.A.T9xxx\n",
      "x.AKJT8x.xxx.Kxx 9xxx.9xx.KT9.ATx KJTx.xx.8xx.QJ8x AQ8x.Qx.AQJx.9xx\n",
      "x.AKJT8x.xxx.Kxx AKQ.xx.QTxx.AQTx T98xx.9x.K8.J8xx Jxxx.Qxx.AJ9x.9x\n",
      "x.AKJT8x.xxx.Kxx KQxx.9x.AQ98.QJx AJ98x.x.KJTx.T9x Txx.Qxxx.xx.A8xx\n",
      "x.AKJT8x.xxx.Kxx KQx.9x.T9x.AQxxx T98xx.x.AJ8x.T9x AJxx.Qxxx.KQx.J8\n",
      "x.AKJT8x.xxx.Kxx QTxx.9x.AKQJT.Ax J9xx.xx.9xxx.9xx AK8x.Qxx.8.QJT8x\n",
      "x.AKJT8x.xxx.Kxx AKQ8xx.9.J.ATxxx JTx.Qx.Qxxx.QJ98 9xx.xxxx.AKT98.x\n",
      "x.AKJT8x.xxx.Kxx AK8x.xx.Jxx.9xxx 9xxx.Qxx.KQ8.QJx QJTx.9x.AT9x.AT8\n",
      "x.AKJT8x.xxx.Kxx KQxx.x.Axx.AQTxx AT98.xx.QT98.98x Jxxx.Q9xx.KJx.Jx\n",
      "x.AKJT8x.xxx.Kxx JT8xx.Qxx.AKx.T9 xxx.9x.QT8xx.Jxx AKQ9.xx.J9.AQ8xx\n",
      "x.AKJT8x.xxx.Kxx Kxx.9xx.AJ8x.AT8 QJT8x.xx.Txx.xxx A9xx.Qx.KQ9.QJ9x\n",
      "x.AKJT8x.xxx.Kxx AKx.Qx.KQTx.QT8x Qxxxx.xx.AJ9x.Jx JT98.9xx.8x.A9xx\n",
      "x.AKJT8x.xxx.Kxx KJT9x.Q9x.Q8.A9x 8xx.x.T9xxx.Txxx AQxx.xxx.AKJ.QJ8\n",
      "x.AKJT8x.xxx.Kxx AKx.x.KJT.AT98xx Txxxx.x.A98x.Qxx QJ98.Q9xxx.Qxx.J\n",
      "x.AKJT8x.xxx.Kxx AKQJx.x.AJx.AJ8x 9xx.Q9xx.T8x.T9x T8xx.xx.KQ9x.Qxx\n",
      "x.AKJT8x.xxx.Kxx K8xx.xxx.xx.A98x AT9x..AJT98x.Txx QJxx.Q9xx.KQ.QJx\n",
      "x.AKJT8x.xxx.Kxx A98.9x.AQJx.A9xx QJTxx.x.KT98.Q8x Kxxx.Qxxx.xx.JTx\n",
      "x.AKJT8x.xxx.Kxx AKxx.Qx.K8x.AJTx JT8x.xx.AQT9.9xx Q9xx.9xx.Jxx.Q8x\n",
      "x.AKJT8x.xxx.Kxx AQT8.x.AKQ8.T98x J9xx.Q9x.Txx.xxx Kxxx.xxx.J9x.AQJ\n",
      "x.AKJT8x.xxx.Kxx AKT9x.Qx.AK8.Jxx Jxx.9xx.JT9x.AT8 Q8xx.xx.Qxx.Q9xx\n",
      "x.AKJT8x.xxx.Kxx AQ9x.x.KT9x.T98x Kxxx.Q9xx.AJx.xx JT8x.xx.Q8x.AQJx\n",
      "x.AKJT8x.xxx.Kxx A8x.9x.KT9x.A8xx JTxxx.Qxx.A.JT9x KQ9x.xx.QJ8xx.Qx\n",
      "x.AKJT8x.xxx.Kxx A8.xx.AK98.AQxxx KT9xxx.Q.xxx.JT8 QJxx.9xxx.QJT.9x\n",
      "x.AKJT8x.xxx.Kxx A9.Qx.AKJ9xx.T8x KQJTxx.xx.Qx.Q9x 8xxx.9xx.T8.AJxx\n",
      "x.AKJT8x.xxx.Kxx KQxx.xx.AKQTx.Ax JT9x.Q9.J8x.9xxx A8xx.xxx.9x.QJT8\n",
      "x.AKJT8x.xxx.Kxx KT8.xx.AQJ9.AT9x Axxxx.Q9.KTxxx.8 QJ9x.xxx.8.QJxxx\n",
      "x.AKJT8x.xxx.Kxx AJTx.xx.AKQT.98x K8xx.x.J8xx.QJTx Q9xx.Q9xx.9x.Axx\n",
      "x.AKJT8x.xxx.Kxx AKxx.xxx.Q9x.A8x QT98.9.JT8x.QJTx Jxxx.Qxx.AKx.9xx\n",
      "x.AKJT8x.xxx.Kxx AKQ9xx.x.QJx.ATx J8x.xx.98xx.J8xx Txx.Q9xx.AKT.Q9x\n",
      "x.AKJT8x.xxx.Kxx AKT9x.9.KJTx.Txx J8xx.Qx.Q98x.QJx Qxx.xxxx.Ax.A98x\n",
      "x.AKJT8x.xxx.Kxx AKx.Qx.AKT.T98xx QJ8xx.9xx.Q8x.Qx T9xx.xx.J9xx.AJx\n",
      "x.AKJT8x.xxx.Kxx AK8x.x.QJ8x.AJT9 QJ9xx.xx.K9xx.8x Txx.Q9xx.AT.Qxxx\n",
      "x.AKJT8x.xxx.Kxx J.Q9x.AKT8.AQ8xx KT8xxx..QJx.JT9x AQ9xx.xxxx.9xx.x\n",
      "x.AKJT8x.xxx.Kxx KJ9xx.x.KQ.QJxxx QTxx.9x.AT8x.ATx A8x.Qxxx.J9xx.98\n",
      "x.AKJT8x.xxx.Kxx K8xx.Qxx.AK8.Qxx JTxx.9x.T9x.AT8x AQ9x.xx.QJxx.J9x\n"
     ]
    }
   ],
   "source": [
    "# we got some samples above. if we want more, we can always get more\n",
    "\n",
    "sample_hands, sorted_score, p_hcp, p_shp, good_quality = bot_bid.sample_hands_for_auction(['PAD_START','2N','PASS','3C','PASS','3D'], 0)\n",
    "print(\"Good quality:\", good_quality)\n",
    "for i in range(sample_hands.shape[0]):\n",
    "    print(f'{hand_to_str(sample_hands[i, 0, :])} {hand_to_str(sample_hands[i, 1, :])} {hand_to_str(sample_hands[i, 2, :])} {hand_to_str(sample_hands[i, 3, :])}')"
   ]
  },
  {
   "cell_type": "markdown",
   "id": "7e7f18d2",
   "metadata": {},
   "source": [
    "How do we know on which sample 4H is making and on which sample it is not? It's the topic for another tutorial, but basically we could do either (1) solve the sample double dummpy or (2) estimate the outcome using a neural network"
   ]
  },
  {
   "cell_type": "markdown",
   "id": "669da023",
   "metadata": {},
   "source": [
    "### Bidding through an entire auction for all four hands\n",
    "\n",
    "Now we'll take a random deal and let the bot bid for each hand. We assume North deals and nobody is vulnerable."
   ]
  },
  {
   "cell_type": "code",
   "execution_count": 7,
   "id": "fc27ca79",
   "metadata": {},
   "outputs": [
    {
     "data": {
      "text/plain": [
       "['76.Q.A972.K97654',\n",
       " 'A842.JT975.J64.2',\n",
       " 'J53.A832.KQT8.J3',\n",
       " 'KQT9.K64.53.AQT8']"
      ]
     },
     "execution_count": 7,
     "metadata": {},
     "output_type": "execute_result"
    }
   ],
   "source": [
    "hands = random_deal().split()\n",
    "hands # N, E, S, W"
   ]
  },
  {
   "cell_type": "code",
   "execution_count": 8,
   "id": "d480cbba",
   "metadata": {},
   "outputs": [],
   "source": [
    "bidder_bots = [BotBid([False, False], hand, models, sampler,i, 0,False) for i, hand in enumerate(hands)]"
   ]
  },
  {
   "cell_type": "code",
   "execution_count": 9,
   "id": "7d77351a",
   "metadata": {},
   "outputs": [
    {
     "data": {
      "text/plain": [
       "['PASS',\n",
       " 'PASS',\n",
       " 'PASS',\n",
       " '1C',\n",
       " 'PASS',\n",
       " '1H',\n",
       " 'PASS',\n",
       " '1S',\n",
       " '2C',\n",
       " '2S',\n",
       " '3C',\n",
       " 'X',\n",
       " 'PASS',\n",
       " 'PASS',\n",
       " 'PASS']"
      ]
     },
     "execution_count": 9,
     "metadata": {},
     "output_type": "execute_result"
    }
   ],
   "source": [
    "auction = []  # since North deals, we don't need any 'PAD_START'\n",
    "\n",
    "turn_i = 0  # whose turn is it to bid\n",
    "\n",
    "while not bidding.auction_over(auction):\n",
    "    auction.append(bidder_bots[turn_i].bid(auction).bid)\n",
    "    turn_i = (turn_i + 1) % 4  # next player's turn\n",
    "    \n",
    "auction"
   ]
  }
 ],
 "metadata": {
  "kernelspec": {
   "display_name": "Python 3 (ipykernel)",
   "language": "python",
   "name": "python3"
  },
  "language_info": {
   "codemirror_mode": {
    "name": "ipython",
    "version": 3
   },
   "file_extension": ".py",
   "mimetype": "text/x-python",
   "name": "python",
   "nbconvert_exporter": "python",
   "pygments_lexer": "ipython3",
   "version": "3.11.0"
  }
 },
 "nbformat": 4,
 "nbformat_minor": 5
}
