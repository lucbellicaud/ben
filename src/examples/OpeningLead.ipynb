{
 "cells": [
  {
   "cell_type": "markdown",
   "id": "170af530",
   "metadata": {},
   "source": [
    "# Opening Lead\n",
    "\n",
    "This is a tutorial for how to use the opening lead engine."
   ]
  },
  {
   "cell_type": "code",
   "execution_count": 1,
   "id": "26570686",
   "metadata": {},
   "outputs": [],
   "source": [
    "import os\n",
    "os.chdir('..')\n",
    "\n",
    "from nn.models import Models\n",
    "from bots import BotLead\n",
    "from sample import Sample\n",
    "import conf"
   ]
  },
  {
   "cell_type": "code",
   "execution_count": 2,
   "id": "fe373c76",
   "metadata": {},
   "outputs": [
    {
     "name": "stdout",
     "output_type": "stream",
     "text": [
      "WARNING:tensorflow:From c:\\Python311\\Lib\\site-packages\\tensorflow\\python\\compat\\v2_compat.py:107: disable_resource_variables (from tensorflow.python.ops.variable_scope) is deprecated and will be removed in a future version.\n",
      "Instructions for updating:\n",
      "non-resource variables are not supported in the long term\n",
      "INFO:tensorflow:Restoring parameters from ..\\UCBC 2024/Models/NS1EW99-bidding_same-5556000\n",
      "INFO:tensorflow:Restoring parameters from ..\\UCBC 2024/Models/NS1EW99-binfo_same-5556000\n",
      "INFO:tensorflow:Restoring parameters from ..\\UCBC 2024/Models/lead_suit-999000\n",
      "INFO:tensorflow:Restoring parameters from ..\\UCBC 2024/Models/lead_nt-475000\n",
      "INFO:tensorflow:Restoring parameters from ..\\UCBC 2024/Models/Jack/lr3-1000000\n",
      "INFO:tensorflow:Restoring parameters from ..\\UCBC 2024/Models/single_dummy-32768000\n",
      "INFO:tensorflow:Restoring parameters from ..\\UCBC 2024/Models/lefty_nt-475000\n",
      "INFO:tensorflow:Restoring parameters from ..\\UCBC 2024/Models/dummy_nt-475000\n",
      "INFO:tensorflow:Restoring parameters from ..\\UCBC 2024/Models/righty_nt-475000\n",
      "INFO:tensorflow:Restoring parameters from ..\\UCBC 2024/Models/decl_nt-950000\n",
      "INFO:tensorflow:Restoring parameters from ..\\UCBC 2024/Models/lefty_suit-999000\n",
      "INFO:tensorflow:Restoring parameters from ..\\UCBC 2024/Models/dummy_suit-999000\n",
      "INFO:tensorflow:Restoring parameters from ..\\UCBC 2024/Models/righty_suit-999000\n",
      "INFO:tensorflow:Restoring parameters from ..\\UCBC 2024/Models/decl_suit-1278000\n"
     ]
    }
   ],
   "source": [
    "models = Models.from_conf(conf.load('./config/default.conf'),'..')   # loading neural networks\n",
    "sampler = Sample.from_conf(conf.load('./config/default.conf'), False)  # Load sampling strategies"
   ]
  },
  {
   "cell_type": "code",
   "execution_count": 3,
   "id": "c3397678",
   "metadata": {},
   "outputs": [
    {
     "name": "stderr",
     "output_type": "stream",
     "text": [
      "Loaded lib dds.dll\n"
     ]
    }
   ],
   "source": [
    "# both vulnerable. you are sitting North as dealer and you hold\n",
    "hand = 'T54.QT87.A98.943'\n",
    "\n",
    "# the auction goes:\n",
    "auction = [\"1C\",\"1D\",\"1S\",\"2D\",\"X\",\"PASS\",\"2S\",\"PASS\",\"3C\",\"PASS\",\"3N\",\"PASS\",\"4S\",'PASS', 'PASS', 'PASS']\n",
    "\n",
    "# what to lead?\n",
    "\n",
    "lead_bot = BotLead([True, True], hand, models, sampler, 0, 0, False)\n",
    "lead = lead_bot.find_opening_lead(auction)"
   ]
  },
  {
   "cell_type": "code",
   "execution_count": 4,
   "id": "a2b5fe25",
   "metadata": {},
   "outputs": [
    {
     "data": {
      "text/plain": [
       "H7"
      ]
     },
     "execution_count": 4,
     "metadata": {},
     "output_type": "execute_result"
    }
   ],
   "source": [
    "lead.card"
   ]
  },
  {
   "cell_type": "markdown",
   "id": "02e88396",
   "metadata": {},
   "source": [
    "seems like the engine chose to lead the ace of diamonds\n",
    "\n",
    "the other options it considered were: a small spade and a small club"
   ]
  },
  {
   "cell_type": "code",
   "execution_count": 5,
   "id": "956ef356",
   "metadata": {},
   "outputs": [
    {
     "data": {
      "text/plain": [
       "[{'card': 'Hx',\n",
       "  'insta_score': 0.206,\n",
       "  'expected_tricks_sd': 10.4,\n",
       "  'p_make_contract': 0.3},\n",
       " {'card': 'DA',\n",
       "  'insta_score': 0.174,\n",
       "  'expected_tricks_sd': 10.6,\n",
       "  'p_make_contract': 0.2},\n",
       " {'card': 'Cx',\n",
       "  'insta_score': 0.253,\n",
       "  'expected_tricks_sd': 10.9,\n",
       "  'p_make_contract': 0.1}]"
      ]
     },
     "execution_count": 5,
     "metadata": {},
     "output_type": "execute_result"
    }
   ],
   "source": [
    "lead.to_dict()['candidates']"
   ]
  },
  {
   "cell_type": "markdown",
   "id": "97efc5a1",
   "metadata": {},
   "source": [
    "in the above output:\n",
    "- `insta_score` reflects the preference of the neural network\n",
    "- `expected_tricks` how many tricks declarer is expected to take on this lead\n",
    "- `p_make_contract` is the probability of the contract making on this lead\n",
    "\n",
    "the probability of making and the expected tricks are computed on samples which are consistent with the auction. the samples are estimated single dummy using a neural network (more on this in another tutorial). we could also solve the samples double dummy, but that would be quite a bit slower."
   ]
  },
  {
   "cell_type": "code",
   "execution_count": 6,
   "id": "7cb2bf98",
   "metadata": {},
   "outputs": [
    {
     "data": {
      "text/plain": [
       "['Txx.QT8x.A98.9xx A9x.K9.x.AKJ8xxx Qxx.Axxx.QJxxx.x KJ8x.Jxx.KTxx.QT 0.61089',\n",
       " 'Txx.QT8x.A98.9xx AK8.xx.Q.KQJT8xx J9x.AJ9x.KTxxx.x Qxxx.Kxx.Jxxx.Ax 0.59200',\n",
       " 'Txx.QT8x.A98.9xx J8x.AKJx..AQ8xxx K9x.9xx.QJxxx.KT AQxx.xx.KTxxx.Jx 0.59004',\n",
       " 'Txx.QT8x.A98.9xx A8x.AJ9x..AQT8xx QJx.xx.QTxxx.KJx K9xx.Kxx.KJxxx.x 0.58762',\n",
       " 'Txx.QT8x.A98.9xx Kxx.Ax.Q.KQJT8xx A9x.KJxx.JTxxx.x QJ8x.9xx.Kxxx.Ax 0.58224',\n",
       " 'Txx.QT8x.A98.9xx Q98.AJxx..AKJTxx Kxx.9x.KJxxx.Qxx AJxx.Kxx.QTxxx.8 0.58113',\n",
       " 'Txx.QT8x.A98.9xx Q8x.K9.x.AKQJTxx AJx.xxxx.KQxxx.x K9xx.AJx.JTxx.8x 0.57867',\n",
       " 'Txx.QT8x.A98.9xx AQ9x.Kxx.x.KQJT8 Kx.9xx.KQJxx.xxx J8xx.AJx.Txxx.Ax 0.57531',\n",
       " 'Txx.QT8x.A98.9xx KQx.A9x.J.AQT8xx 98x.Kxx.Qxxxx.Kx AJxx.Jxx.KTxx.Jx 0.57466',\n",
       " 'Txx.QT8x.A98.9xx Jxxx.A9xx..AKQxx 8x.Kxx.KQJxx.JTx AKQ9.Jx.Txxxx.8x 0.57254']"
      ]
     },
     "execution_count": 6,
     "metadata": {},
     "output_type": "execute_result"
    }
   ],
   "source": [
    "# each row is one sample board\n",
    "# the hands are in the order: LHO, Partner, RHO. Your cards are not shown as they are fixed/\n",
    "\n",
    "lead.samples"
   ]
  }
 ],
 "metadata": {
  "kernelspec": {
   "display_name": "Python 3 (ipykernel)",
   "language": "python",
   "name": "python3"
  },
  "language_info": {
   "codemirror_mode": {
    "name": "ipython",
    "version": 3
   },
   "file_extension": ".py",
   "mimetype": "text/x-python",
   "name": "python",
   "nbconvert_exporter": "python",
   "pygments_lexer": "ipython3",
   "version": "3.11.0"
  }
 },
 "nbformat": 4,
 "nbformat_minor": 5
}
