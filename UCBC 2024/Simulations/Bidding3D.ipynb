{
 "cells": [
  {
   "cell_type": "markdown",
   "id": "75d07246",
   "metadata": {},
   "source": [
    "# Bidding\n",
    "\n",
    "This is a tutorial for how to use the bidding engine"
   ]
  },
  {
   "cell_type": "code",
   "execution_count": 1,
   "id": "59a5664c",
   "metadata": {},
   "outputs": [
    {
     "name": "stdout",
     "output_type": "stream",
     "text": [
      "WARNING:tensorflow:From c:\\Python311\\Lib\\site-packages\\tensorflow\\python\\compat\\v2_compat.py:107: disable_resource_variables (from tensorflow.python.ops.variable_scope) is deprecated and will be removed in a future version.\n",
      "Instructions for updating:\n",
      "non-resource variables are not supported in the long term\n",
      "Using old version of models\n",
      "INFO:tensorflow:Restoring parameters from ..\\Models/NS1EW99-bidding_same-5556000\n",
      "INFO:tensorflow:Restoring parameters from ..\\Models/NS1EW99-binfo_same-5556000\n",
      "INFO:tensorflow:Restoring parameters from ..\\Models/lead_suit-999000\n",
      "INFO:tensorflow:Restoring parameters from ..\\Models/lead_nt-475000\n",
      "INFO:tensorflow:Restoring parameters from ..\\Models/Jack/lr3-1000000\n",
      "INFO:tensorflow:Restoring parameters from ..\\Models/single_dummy-32768000\n",
      "INFO:tensorflow:Restoring parameters from ..\\Models/lefty_nt-475000\n",
      "INFO:tensorflow:Restoring parameters from ..\\Models/dummy_nt-475000\n",
      "INFO:tensorflow:Restoring parameters from ..\\Models/righty_nt-475000\n",
      "INFO:tensorflow:Restoring parameters from ..\\Models/decl_nt-950000\n",
      "INFO:tensorflow:Restoring parameters from ..\\Models/lefty_suit-999000\n",
      "INFO:tensorflow:Restoring parameters from ..\\Models/dummy_suit-999000\n",
      "INFO:tensorflow:Restoring parameters from ..\\Models/righty_suit-999000\n",
      "INFO:tensorflow:Restoring parameters from ..\\Models/decl_suit-1278000\n"
     ]
    }
   ],
   "source": [
    "import sys\n",
    "import os\n",
    "sys.path.append('../../src')\n",
    "os.environ['BEN_HOME'] = \"../..\"\n",
    "import logging\n",
    "\n",
    "# Set logging level to suppress warnings\n",
    "logging.getLogger().setLevel(logging.ERROR)\n",
    "# Just disables the warnings\n",
    "os.environ['TF_CPP_MIN_LOG_LEVEL'] = '2'\n",
    "\n",
    "from nn.models import Models\n",
    "from bots import BotBid\n",
    "from util import hand_to_str\n",
    "from sample import Sample\n",
    "import conf\n",
    "import numpy as np\n",
    "\n",
    "np.set_printoptions(precision=2, suppress=True, linewidth=200)\n",
    "np.random.seed(42)\n",
    "\n",
    "models = Models.from_conf(conf.load('../Conf/UCBC2024.conf'),'..')   # loading neural networks\n",
    "sampler = Sample.from_conf(conf.load('../Conf/UCBC2024.conf'), False)  # Load sampling strategies\n"
   ]
  },
  {
   "cell_type": "markdown",
   "id": "10d8f2fc",
   "metadata": {},
   "source": [
    "### Running through an example"
   ]
  },
  {
   "cell_type": "code",
   "execution_count": 2,
   "id": "19dbfeb7",
   "metadata": {},
   "outputs": [
    {
     "name": "stdout",
     "output_type": "stream",
     "text": [
      "[{'call': 'PASS', 'insta_score': 0.832}, {'call': '1C', 'insta_score': 0.168}]\n",
      "[{'call': 'PASS', 'insta_score': 0.786}, {'call': '1C', 'insta_score': 0.213}]\n",
      "[{'call': 'PASS', 'insta_score': 0.832}, {'call': '1C', 'insta_score': 0.168}]\n",
      "[{'call': 'PASS', 'insta_score': 0.786}, {'call': '1C', 'insta_score': 0.213}]\n"
     ]
    }
   ],
   "source": [
    "# East deals, EW vulnerable.\n",
    "vuln_ns, vuln_ew = True, True\n",
    "\n",
    "# you sit West and hold:\n",
    "hand = '843.9765.A73.AK4'\n",
    "\n",
    "# the auction goes:\n",
    "auction = []\n",
    "bot_bid = BotBid([vuln_ns, vuln_ew], hand, models, sampler, 0, 0, False)\n",
    "\n",
    "bid = bot_bid.bid(auction)\n",
    "print(bid.to_dict()['candidates'])\n",
    "auction = [\"PAD_START\"]\n",
    "bot_bid = BotBid([vuln_ns, vuln_ew], hand, models, sampler, 1, 1, False)\n",
    "\n",
    "bid = bot_bid.bid(auction)\n",
    "print(bid.to_dict()['candidates'])\n",
    "auction = []\n",
    "bot_bid = BotBid([vuln_ns, vuln_ew], hand, models, sampler, 2, 2, False)\n",
    "\n",
    "bid = bot_bid.bid(auction)\n",
    "print(bid.to_dict()['candidates'])\n",
    "auction = [\"PAD_START\"]\n",
    "bot_bid = BotBid([vuln_ns, vuln_ew], hand, models, sampler, 3, 3, False)\n",
    "\n",
    "bid = bot_bid.bid(auction)\n",
    "print(bid.to_dict()['candidates'])\n",
    "\n",
    "# what's your bid?"
   ]
  },
  {
   "cell_type": "markdown",
   "id": "ad120123",
   "metadata": {},
   "source": [
    "in the output above:\n",
    "- `insta_score` reflects what the neural network prefers to bid\n",
    "- `expected_score` is based on what you expect to score on difference samples (for example, 70% of the time you are making and 30% of the time you are going one off, then the expected score is 0.7 * 620 - 0.3 * 100)"
   ]
  },
  {
   "cell_type": "markdown",
   "id": "051ff121",
   "metadata": {},
   "source": [
    "### Samples consistent with the auction so far\n",
    "\n",
    "Above we said that we are computig expected scores on samples consistent with the auction so far.\n",
    "\n",
    "How do we get these samples?\n",
    "\n",
    "We get some samples in the response we get from the bot (i.e `bid.samples`)"
   ]
  },
  {
   "cell_type": "code",
   "execution_count": 3,
   "id": "55b647a5",
   "metadata": {},
   "outputs": [
    {
     "data": {
      "text/plain": [
       "[]"
      ]
     },
     "execution_count": 3,
     "metadata": {},
     "output_type": "execute_result"
    }
   ],
   "source": [
    "bid.samples"
   ]
  },
  {
   "cell_type": "markdown",
   "id": "7d0dd8f5",
   "metadata": {},
   "source": [
    "each row is one sample. the hands are in the order: N E S W\n",
    "\n",
    "(West always has the same cards because it's your hand and it's known to you)"
   ]
  },
  {
   "cell_type": "code",
   "execution_count": 4,
   "id": "7101e514",
   "metadata": {},
   "outputs": [
    {
     "name": "stdout",
     "output_type": "stream",
     "text": [
      "Good quality: True\n",
      "8xx.9xxx.Axx.AKx AQT9xx.JTx.9.Jxx .AKQx.Jxxxx.T9xx KJxx.8x.KQT8.Q8x\n",
      "8xx.9xxx.Axx.AKx QJT9xx.xx.KJTx.x .AKJx.Q98xx.Q8xx AKxx.QT8.x.JT9xx\n",
      "8xx.9xxx.Axx.AKx KQJTxx.8.QJ9.Jxx .AKxx.K8xxx.98xx A9xx.QJTx.Tx.QTx\n",
      "8xx.9xxx.Axx.AKx KJT9x.Qx.9x.J8xx x.AK8x.KJ8x.Q9xx AQxx.JTx.QTxx.Tx\n",
      "8xx.9xxx.Axx.AKx KQJTxx.Jxx.Jx.T8 .AKQx.KQ9x.Q9xxx A9xx.T8.T8xx.Jxx\n",
      "8xx.9xxx.Axx.AKx AKQ9.Jx.Q9xx.Jxx x.AKTx.KTxx.QT8x JTxxx.Q8x.J8.9xx\n",
      "8xx.9xxx.Axx.AKx KJxxx.JTx.Txx.8x .AKQ8.KQJ.QJ9xxx AQT9x.xx.98xx.Tx\n",
      "8xx.9xxx.Axx.AKx AQJT9.Tx.JTx.JTx x.AJ8x.KQ8x.Q8xx Kxxx.KQx.9xx.9xx\n",
      "8xx.9xxx.Axx.AKx AJT9xx.8xx.QTx.x .AKJT.K9xx.9xxxx KQxx.Qx.J8x.QJT8\n",
      "8xx.9xxx.Axx.AKx AT9xxx.QJ.T8x.xx x.AKT8.KQxx.J98x KQJ.xxx.J9x.QTxx\n",
      "8xx.9xxx.Axx.AKx AKJx.8xxx.Jx.J9x x.AKJT.K8xx.QT8x QT9xx.Q.QT9x.xxx\n",
      "8xx.9xxx.Axx.AKx T9xxx.Jxx.Txx.Jx K.AKQT.KQ8x.Q8xx AQJx.8x.J9x.T9xx\n",
      "8xx.9xxx.Axx.AKx AT9xx.xx.98x.Qxx K.AKQ8.QJTx.T9xx QJxx.JTx.Kxx.J8x\n",
      "8xx.9xxx.Axx.AKx AQTxx.Jxx.QJ.T8x 9.AKQT.KTxx.QJ9x KJxx.8x.98xx.xxx\n",
      "8xx.9xxx.Axx.AKx QJ9xx.Jx.K98.JT8 .AKTx.QJxxx.9xxx AKTxx.Q8x.Tx.Qxx\n",
      "8xx.9xxx.Axx.AKx KQTxx.JT.KJ9.8xx .AKQx.QT8xx.JT9x AJ9xx.8xx.xx.Qxx\n",
      "8xx.9xxx.Axx.AKx KQxx.AT8.8x.8xxx J.KJxx.KQJ9.QTxx AT9xx.Qx.Txxx.J9\n",
      "8xx.9xxx.Axx.AKx KJT9xx.x.QJx.9xx x.AKQx.KT9xx.xxx AQx.JT8x.8x.QJT8\n",
      "8xx.9xxx.Axx.AKx AKQx.8xx.Jx.Q8xx x.AKJx.K98x.T9xx JT9xx.QT.QTxx.Jx\n",
      "8xx.9xxx.Axx.AKx KQJT9x.QT.QT9.8x x.AKxx.KJxx.Q9xx Axx.J8x.8xx.JTxx\n",
      "8xx.9xxx.Axx.AKx AJTx.JT8.JTxx.xx Q.AKQx.KQ9.QT9xx K9xxx.xx.8xx.J8x\n",
      "8xx.9xxx.Axx.AKx AQJTxx.JT.xx.8xx x.AK8x.KJ98x.JTx K9x.Qxx.QTx.Q9xx\n",
      "8xx.9xxx.Axx.AKx QJT9x.xx.8xxx.T9 A.AK8x.KJT.QJ8xx Kxxx.QJT.Q9x.xxx\n",
      "8xx.9xxx.Axx.AKx QJTxx.J8xx.9.JT8 A.AQTx.KTxx.Qxxx K9xx.K.QJ8xx.9xx\n",
      "8xx.9xxx.Axx.AKx KJ9xx.Qxx.Kxx.J8 A.AK8x.QT9x.Q9xx QTxx.JT.J8x.Txxx\n",
      "8xx.9xxx.Axx.AKx AQx.Q.98xxx.98xx J.AKTx.KQJx.QJxx KT9xxx.J8xx.T.Tx\n",
      "8xx.9xxx.Axx.AKx QJxxx.QT.Jxx.QTx 9.AKJx.K98x.98xx AKTx.8xx.QTx.Jxx\n",
      "8xx.9xxx.Axx.AKx AQTxx.Q8.xx.J8xx x.AKJx.KQT8x.T9x KJ9x.Txx.J9x.Qxx\n",
      "8xx.9xxx.Axx.AKx AJT9xx.Tx.xx.9xx Q.AKQJ.KJ9.QT8xx Kxx.8xx.QT8xx.Jx\n",
      "8xx.9xxx.Axx.AKx AKJx.ATx.Qx.xxxx .KJ8x.K98xx.QJ98 QT9xxx.Qx.JTx.Tx\n",
      "8xx.9xxx.Axx.AKx KQxx.AJ.98x.Q9xx .KQ8x.KQJxx.JT8x AJT9xx.Txx.Tx.xx\n",
      "8xx.9xxx.Axx.AKx Kxxx.KQx.8x.Qxxx A.ATxx.KQJx.J98x QJT9x.J8.T9xx.Tx\n",
      "8xx.9xxx.Axx.AKx KQTxxx.8x.xxx.Jx 9.AKJT.KQJ.Q98xx AJx.Qxx.T98x.Txx\n",
      "8xx.9xxx.Axx.AKx QTxxx.QTx.Jx.QJx A.AKxx.KQ98.98xx KJ9x.J8.Txxx.Txx\n",
      "8xx.9xxx.Axx.AKx AQJ9xx.Qx.Txx.xx x.KT8x.KQ8x.QT9x KTx.AJx.J9x.J8xx\n",
      "8xx.9xxx.Axx.AKx KQJTxx.K.T8.QT8x .AQxx.KQxxx.9xxx A9xx.JT8x.J9x.Jx\n",
      "8xx.9xxx.Axx.AKx KQT9x.J8x.QT9.Qx .AKxx.KJxx.JT98x AJxxx.QT.8xx.xxx\n",
      "8xx.9xxx.Axx.AKx KT9xx.QT8x.Q9x.T J.AKJx.KTx.J8xxx AQxx.x.J8xx.Q9xx\n",
      "8xx.9xxx.Axx.AKx KJT9xx.Kx.J9x.Jx A.QJxx.KTxx.Q98x Qxx.AT8.Q8x.Txxx\n",
      "8xx.9xxx.Axx.AKx Q9xx.8x.K98x.QJx A.AKQx.QJx.T98xx KJTxx.JTx.Txx.xx\n",
      "8xx.9xxx.Axx.AKx KJT9.Kx.JTx.Qxxx x.AQJx.KQ9xx.J8x AQxxx.T8x.8x.T9x\n",
      "8xx.9xxx.Axx.AKx AQxxx.Q8.Q9x.9xx T.AKJx.K8x.QJ8xx KJ9x.Txx.JTxx.Tx\n",
      "8xx.9xxx.Axx.AKx AJxxx.QT8.J8x.xx x.AKxx.KQ9xx.QJx KQT9.Jx.Tx.T98xx\n",
      "8xx.9xxx.Axx.AKx KJTx.QJxx.Kx.9xx A.AKTx.J98x.QJ8x Q9xxx.8.QTxx.Txx\n",
      "8xx.9xxx.Axx.AKx AJ9xx.JTxx.9xx.Q x.AKQx.JTx.JT98x KQTx.8.KQ8x.xxxx\n",
      "8xx.9xxx.Axx.AKx AQ9x.Tx.KQxx.xxx K.AK8x.J98x.J98x JTxxx.QJx.Tx.QTx\n",
      "8xx.9xxx.Axx.AKx AJxx.AJx.Jxx.9xx 9.KQTx.KQ9.Q8xxx KQTxx.8x.T8xx.JT\n",
      "8xx.9xxx.Axx.AKx KJ9xx.QJ8.K.J9xx x.AKTx.QJT8x.QTx AQTx.xx.9xxx.8xx\n",
      "8xx.9xxx.Axx.AKx JT9xx.QTx.Jx.Qxx Q.AKJ8.KQxx.J9xx AKxx.xx.T98x.T8x\n",
      "8xx.9xxx.Axx.AKx QT9x.KJx.KQ9x.9x K.AQTx.Jxxx.QTxx AJxxx.8x.T8.J8xx\n",
      "8xx.9xxx.Axx.AKx KJTxx.Jxx.Qx.xxx x.AQ8x.K9x.QT98x AQ9x.KT.JT8xx.Jx\n",
      "8xx.9xxx.Axx.AKx AT9xx.8.QJ9x.T8x Q.KJxx.KTxx.Qxxx KJxx.AQTx.8x.J9x\n",
      "8xx.9xxx.Axx.AKx AQJxx.T8.8xx.Q8x K.AKxx.9xx.J9xxx T9xx.QJx.KQJT.Tx\n",
      "8xx.9xxx.Axx.AKx AQJxx.Kxx.xx.T8x T.AQTx.KQ8x.9xxx K9xx.J8.JT9x.QJx\n",
      "8xx.9xxx.Axx.AKx AQTx.KT8.Jxx.Qxx K.Axxx.K8x.JT9xx J9xxx.QJ.QT9x.8x\n",
      "8xx.9xxx.Axx.AKx QTxx.Kxx.Kxxx.Q9 A.AJ8x.QJT.Txxxx KJ9xx.QT.98x.J8x\n",
      "8xx.9xxx.Axx.AKx J9xxx.A.T9x.T8xx K.KJTx.K8xx.QJ9x AQTx.Q8xx.QJx.xx\n",
      "8xx.9xxx.Axx.AKx KQJ9x.KJT.QJ9.8x .AQxx.K8xxx.Qxxx ATxxx.8x.Tx.JT9x\n",
      "8xx.9xxx.Axx.AKx KJ9x.T8xx.Qxx.Qx A.AKJx.KT98x.J9x QTxxx.Q.Jx.T8xxx\n",
      "8xx.9xxx.Axx.AKx KT9xxx.Txx.Jx.xx A.AKJ8.QT9xx.Q8x QJx.Qx.K8x.JT9xx\n",
      "8xx.9xxx.Axx.AKx AQxxx.QJx.9x.J9x K.AKTx.T8xx.T8xx JT9x.8x.KQJx.Qxx\n",
      "8xx.9xxx.Axx.AKx KQJx.JTx.K9.J9xx A.AKQ8.QT8xx.Q8x T9xxx.xx.Jxx.Txx\n",
      "8xx.9xxx.Axx.AKx KQJ9xx.QT8.JTx.x x.AJxx.KQ9.QTxxx ATx.Kx.8xxx.J98x\n",
      "8xx.9xxx.Axx.AKx KJxx.QJxx.Q9x.8x .AKT8.JT8xx.Q9xx AQT9xx.x.Kx.JTxx\n",
      "8xx.9xxx.Axx.AKx KTxxxx.Q8.T.Txxx .AJTx.KJ8xx.QJxx AQJ9.Kxx.Q9xx.98\n",
      "8xx.9xxx.Axx.AKx JT9xxx.K.QTx.8xx .A8xx.K98xx.QJ9x AKQx.QJTx.Jx.Txx\n",
      "8xx.9xxx.Axx.AKx KJ9x.QTxx.xx.8xx A.AKJ8.KQTxx.JT9 QTxxx.x.J98.Qxxx\n",
      "8xx.9xxx.Axx.AKx AQTx.J.QTxx.9xxx K.AKQx.J98x.QJT8 J9xxx.T8xx.Kx.xx\n",
      "8xx.9xxx.Axx.AKx AJTx.J8xx.QTx.Jx .AKQT.KJ9xx.8xxx KQ9xxx.x.8x.QT9x\n",
      "8xx.9xxx.Axx.AKx JTxxx.Kx.T9x.T8x K.AJ8x.KJx.QJxxx AQ9x.QTx.Q8xx.9x\n",
      "8xx.9xxx.Axx.AKx KQTxx.Qx.8x.QJxx .AKJT.QT9xx.T8xx AJ9xx.8xx.KJx.9x\n",
      "8xx.9xxx.Axx.AKx AKJT9.Txx.J8.98x Q.AJ8x.KTxxx.Qxx xxxx.KQ.Q9x.JTxx\n",
      "8xx.9xxx.Axx.AKx 9xxx.KQxx.KQ9.xx A.AJ8x.Jxx.QJTxx KQJTx.T.T8xx.98x\n",
      "8xx.9xxx.Axx.AKx KT9xx.AQ8.T8xx.x A.JTxx.KQxx.QTxx QJxx.Kx.J9.J98xx\n",
      "8xx.9xxx.Axx.AKx AJ9xx.Q8.Tx.xxxx K.AKJx.Q98x.QJ9x QTxx.Txx.KJxx.T8\n",
      "8xx.9xxx.Axx.AKx AKJ9x.8x.J9xx.Qx Q.AKQJ.KTx.JTxxx Txxx.Txx.Q8x.98x\n",
      "8xx.9xxx.Axx.AKx AQJTxx.8x.T9x.xx K.AKQx.QJxxx.T8x 9xx.JTx.K8.QJ9xx\n",
      "8xx.9xxx.Axx.AKx KQJxx.Qx.QJxx.xx .AKJx.KT98x.T98x AT9xx.T8x.x.QJxx\n",
      "8xx.9xxx.Axx.AKx K9xx.xxx.9xxx.xx T.AQJT.KQT8.QJxx AQJxx.K8.Jx.T98x\n",
      "8xx.9xxx.Axx.AKx KJTxx.T.8xx.JT98 A.AQJx.KQT9x.Qxx Q9xx.K8xx.Jx.xxx\n",
      "8xx.9xxx.Axx.AKx QTxx.KQx.Kxx.xxx A.AJTx.Q98x.QJTx KJ9xx.8x.JTx.98x\n"
     ]
    }
   ],
   "source": [
    "# we got some samples above. if we want more, we can always get more\n",
    "\n",
    "sample_hands, sorted_score, p_hcp, p_shp, good_quality = bot_bid.sample_hands_for_auction([\"PAD_START\", \"PAD_START\", \"PAD_START\", \"PASS\", \"1N\", \"PASS\", \"3S\",\"PASS\"],0)\n",
    "print(\"Good quality:\", good_quality)\n",
    "for i in range(sample_hands.shape[0]):\n",
    "    print(f'{hand_to_str(sample_hands[i, 0, :])} {hand_to_str(sample_hands[i, 1, :])} {hand_to_str(sample_hands[i, 2, :])} {hand_to_str(sample_hands[i, 3, :])}')"
   ]
  }
 ],
 "metadata": {
  "kernelspec": {
   "display_name": "Python 3 (ipykernel)",
   "language": "python",
   "name": "python3"
  },
  "language_info": {
   "codemirror_mode": {
    "name": "ipython",
    "version": 3
   },
   "file_extension": ".py",
   "mimetype": "text/x-python",
   "name": "python",
   "nbconvert_exporter": "python",
   "pygments_lexer": "ipython3",
   "version": "3.11.0"
  }
 },
 "nbformat": 4,
 "nbformat_minor": 5
}
