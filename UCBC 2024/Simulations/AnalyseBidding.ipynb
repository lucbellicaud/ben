{
 "cells": [
  {
   "cell_type": "markdown",
   "id": "21a4c878",
   "metadata": {},
   "source": [
    "# Detailed Analysis of bidding"
   ]
  },
  {
   "cell_type": "code",
   "execution_count": 1,
   "id": "16f73f71",
   "metadata": {},
   "outputs": [],
   "source": [
    "import sys\n",
    "import os\n",
    "sys.path.append('../../src')\n",
    "os.environ['BEN_HOME'] = \"../..\"\n",
    "\n",
    "import binary\n",
    "from analysis import CardByCard\n",
    "\n",
    "from nn.models import Models\n",
    "from bots import BotBid\n",
    "from util import hand_to_str\n",
    "from sample import Sample\n",
    "import conf\n",
    "\n",
    "import numpy as np\n",
    "\n",
    "np.set_printoptions(precision=2, suppress=True, linewidth=200)\n",
    "np.random.seed(42)"
   ]
  },
  {
   "cell_type": "code",
   "execution_count": 2,
   "id": "ca7fa897",
   "metadata": {},
   "outputs": [
    {
     "name": "stdout",
     "output_type": "stream",
     "text": [
      "WARNING:tensorflow:From c:\\Python311\\Lib\\site-packages\\tensorflow\\python\\compat\\v2_compat.py:107: disable_resource_variables (from tensorflow.python.ops.variable_scope) is deprecated and will be removed in a future version.\n",
      "Instructions for updating:\n",
      "non-resource variables are not supported in the long term\n",
      "INFO:tensorflow:Restoring parameters from ..\\Models/NS1EW99-bidding_same-5556000\n",
      "INFO:tensorflow:Restoring parameters from ..\\Models/NS1EW99-binfo_same-5556000\n",
      "INFO:tensorflow:Restoring parameters from ..\\Models/lead_suit-999000\n",
      "INFO:tensorflow:Restoring parameters from ..\\Models/lead_nt-475000\n",
      "INFO:tensorflow:Restoring parameters from ..\\Models/Jack/lr3-1000000\n",
      "INFO:tensorflow:Restoring parameters from ..\\Models/single_dummy-32768000\n",
      "INFO:tensorflow:Restoring parameters from ..\\Models/lefty_nt-475000\n",
      "INFO:tensorflow:Restoring parameters from ..\\Models/dummy_nt-475000\n",
      "INFO:tensorflow:Restoring parameters from ..\\Models/righty_nt-475000\n",
      "INFO:tensorflow:Restoring parameters from ..\\Models/decl_nt-950000\n",
      "INFO:tensorflow:Restoring parameters from ..\\Models/lefty_suit-999000\n",
      "INFO:tensorflow:Restoring parameters from ..\\Models/dummy_suit-999000\n",
      "INFO:tensorflow:Restoring parameters from ..\\Models/righty_suit-999000\n",
      "INFO:tensorflow:Restoring parameters from ..\\Models/decl_suit-1278000\n"
     ]
    }
   ],
   "source": [
    "models = Models.from_conf(conf.load('../Conf/UCBC2024.conf'),'..')   # loading neural networks\n",
    "sampler = Sample.from_conf(conf.load('../Conf/UCBC2024.conf'), False)  # Load sampling strategies\n"
   ]
  },
  {
   "cell_type": "code",
   "execution_count": 6,
   "id": "2940c18a",
   "metadata": {},
   "outputs": [],
   "source": [
    "# We specify all the information about a board\n",
    "\n",
    "dealer = 'E'\n",
    "vuln = [True, True]  # fist element is NS, second element is EW\n",
    "hands = [ 'JTx.AT8x.Ax.9xxx', 'A8.KQxx.KQJ8x.T8','xxxx.J9x.9xx.Kxx','KQ9x.xx.Txx.AQJx']\n",
    "auction = ['1D', 'PASS','1S', 'PASS','1N', 'PASS','2N', 'PASS','3C', 'PASS','3D', 'PASS','3S', 'PASS','4D', 'PASS','4S', 'PASS','5D', 'PASS','5S', 'PASS','6D', 'PASS','6S', 'PASS','7D', 'PASS', 'PASS', 'PASS']\n",
    "\n",
    "card_by_card = CardByCard(dealer, vuln, hands, auction, [], models, sampler, False)"
   ]
  },
  {
   "cell_type": "code",
   "execution_count": 7,
   "id": "7ab0cce5",
   "metadata": {},
   "outputs": [
    {
     "name": "stdout",
     "output_type": "stream",
     "text": [
      "1D OK NN-value: 0.999\n",
      "PASS OK NN-value: 1.000\n",
      "1S OK NN-value: 0.997\n",
      "PASS OK NN-value: 1.000\n",
      "1N OK NN-value: 1.000\n",
      "PASS OK NN-value: 1.000\n",
      "2N OK NN-value: 0.922\n",
      "PASS OK NN-value: 1.000\n",
      "3C Suggested bid from NN: CandidateBid(bid=3N  , insta_score=0.1744, expected_score=460.21, adjust=   9)\n",
      "3C is not in the bids from the neural network\n",
      "PASS OK NN-value: 1.000\n",
      "3D Suggested bid from NN: CandidateBid(bid=3N  , insta_score=0.5063, expected_score=316.00, adjust= 253)\n",
      "3D is not in the bids from the neural network\n",
      "PASS OK NN-value: 1.000\n",
      "3S Suggested bid from NN: CandidateBid(bid=3N  , insta_score=0.3856, expected_score=162.00, adjust= 193)\n",
      "3S is not in the bids from the neural network\n",
      "PASS OK NN-value: 1.000\n",
      "4D Suggested bid from NN: CandidateBid(bid=3N  , insta_score=0.4076, expected_score=-20.00, adjust= 204)\n",
      "4D is not in the bids from the neural network\n",
      "PASS OK NN-value: 0.999\n",
      "4S Suggested bid from NN: CandidateBid(bid=PASS, insta_score=0.5638, expected_score=130.00, adjust= 282)\n",
      "4S is not in the bids from the neural network\n",
      "PASS OK NN-value: 1.000\n",
      "5D Suggested bid from NN: CandidateBid(bid=PASS, insta_score=0.8915, expected_score=-6.00, adjust= 446)\n",
      "5D is not in the bids from the neural network\n",
      "PASS OK NN-value: 0.994\n",
      "5S Suggested bid from NN: CandidateBid(bid=PASS, insta_score=0.8365, expected_score=328.00, adjust= 418)\n",
      "5S is not in the bids from the neural network\n",
      "PASS OK NN-value: 1.000\n",
      "6D Suggested bid from NN: CandidateBid(bid=PASS, insta_score=0.4671, expected_score=-230.00, adjust= 234)\n",
      "6D is not in the bids from the neural network\n",
      "PASS Suggested bid from NN: CandidateBid(bid=X   , insta_score=0.3222, expected_score=500.00, adjust= 161)\n",
      "PASS NN-values:CandidateBid(bid=PASS, insta_score=0.6778, expected_score=200.00, adjust= 339)\n",
      "6S Suggested bid from NN: CandidateBid(bid=PASS, insta_score=0.8080, expected_score=468.00, adjust= 404)\n",
      "6S is not in the bids from the neural network\n",
      "PASS OK NN-value: 1.000\n",
      "7D Suggested bid from NN: CandidateBid(bid=PASS, insta_score=0.8004, expected_score=-320.00, adjust= 400)\n",
      "7D is not in the bids from the neural network\n",
      "PASS Suggested bid from NN: CandidateBid(bid=X   , insta_score=0.6983, expected_score=710.00, adjust= 349)\n",
      "PASS NN-values:CandidateBid(bid=PASS, insta_score=0.3016, expected_score=270.00, adjust= 151)\n",
      "PASS OK NN-value: 0.986\n",
      "PASS OK NN-value: 0.999\n"
     ]
    }
   ],
   "source": [
    "# calling this starts the analysis\n",
    "# it will go bid-by-bid and card-by-card, and will take a few moments\n",
    "# possible mistakes will be annotated with ? or with ?? (if it's a bigger mistake)\n",
    "# (possible mistake means that the engine does not agree with the bid/play. the engine could be wrong too :))\n",
    "\n",
    "card_by_card.analyze_bidding()"
   ]
  }
 ],
 "metadata": {
  "kernelspec": {
   "display_name": "Python 3 (ipykernel)",
   "language": "python",
   "name": "python3"
  },
  "language_info": {
   "codemirror_mode": {
    "name": "ipython",
    "version": 3
   },
   "file_extension": ".py",
   "mimetype": "text/x-python",
   "name": "python",
   "nbconvert_exporter": "python",
   "pygments_lexer": "ipython3",
   "version": "3.11.0"
  }
 },
 "nbformat": 4,
 "nbformat_minor": 5
}
