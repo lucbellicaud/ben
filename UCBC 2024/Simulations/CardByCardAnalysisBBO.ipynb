{
 "cells": [
  {
   "cell_type": "markdown",
   "id": "21a4c878",
   "metadata": {},
   "source": [
    "# Detailed Analysis (Bid by Bid, Card by Card)\n",
    "\n",
    "This is a tutorial of how to do a detailed analysis of a played board.\n",
    "\n",
    "The engine looks at the bidding and play as it originally happened, and does an analysis for every bid and every card played.\n",
    "\n",
    "The analysis is not just a double-dummy analysis for the exact current layout (like if you would press the \"GIB\" button on BBO). Instead, it's an analysis over many different possible layouts (samples)."
   ]
  },
  {
   "cell_type": "code",
   "execution_count": 1,
   "id": "16f73f71",
   "metadata": {},
   "outputs": [],
   "source": [
    "import sys\n",
    "import os\n",
    "sys.path.append('../../src')\n",
    "os.environ['BEN_HOME'] = \"../..\"\n",
    "\n",
    "from nn.models import Models\n",
    "from analysis import CardByCard\n",
    "from util import parse_lin, display_lin\n",
    "from sample import Sample\n",
    "import conf\n",
    "import numpy as np\n",
    "\n",
    "np.set_printoptions(precision=2, suppress=True, linewidth=200)\n",
    "np.random.seed(42)\n"
   ]
  },
  {
   "cell_type": "code",
   "execution_count": 2,
   "id": "ca7fa897",
   "metadata": {},
   "outputs": [
    {
     "name": "stdout",
     "output_type": "stream",
     "text": [
      "WARNING:tensorflow:From c:\\Python311\\Lib\\site-packages\\tensorflow\\python\\compat\\v2_compat.py:107: disable_resource_variables (from tensorflow.python.ops.variable_scope) is deprecated and will be removed in a future version.\n",
      "Instructions for updating:\n",
      "non-resource variables are not supported in the long term\n",
      "INFO:tensorflow:Restoring parameters from ..\\Models/NS1EW99-bidding_same-5556000\n",
      "INFO:tensorflow:Restoring parameters from ..\\Models/NS1EW99-binfo_same-5556000\n",
      "INFO:tensorflow:Restoring parameters from ..\\Models/lead_suit-999000\n",
      "INFO:tensorflow:Restoring parameters from ..\\Models/lead_nt-475000\n",
      "INFO:tensorflow:Restoring parameters from ..\\Models/Jack/lr3-1000000\n",
      "INFO:tensorflow:Restoring parameters from ..\\Models/single_dummy-32768000\n",
      "INFO:tensorflow:Restoring parameters from ..\\Models/lefty_nt-475000\n",
      "INFO:tensorflow:Restoring parameters from ..\\Models/dummy_nt-475000\n",
      "INFO:tensorflow:Restoring parameters from ..\\Models/righty_nt-475000\n",
      "INFO:tensorflow:Restoring parameters from ..\\Models/decl_nt-950000\n",
      "INFO:tensorflow:Restoring parameters from ..\\Models/lefty_suit-999000\n",
      "INFO:tensorflow:Restoring parameters from ..\\Models/dummy_suit-999000\n",
      "INFO:tensorflow:Restoring parameters from ..\\Models/righty_suit-999000\n",
      "INFO:tensorflow:Restoring parameters from ..\\Models/decl_suit-1278000\n"
     ]
    }
   ],
   "source": [
    "models = Models.from_conf(conf.load('../Conf/UCBC2024.conf'),'..')   # loading neural networks\n",
    "sampler = Sample.from_conf(conf.load('../Conf/UCBC2024.conf'), False)  # Load sampling strategies\n"
   ]
  },
  {
   "cell_type": "markdown",
   "id": "994e8878",
   "metadata": {},
   "source": [
    "## Analyzing a board played on BBO"
   ]
  },
  {
   "cell_type": "code",
   "execution_count": 3,
   "id": "cdd0edee",
   "metadata": {},
   "outputs": [],
   "source": [
    "# copy-paste from the hand records (in lin format)\n",
    "\n",
    "lin = 'pn|You,~~M7228oka,~~M72302cm,~~M72316sq|st||md|1S4TKHJD68QC679TKA,S35H479TQKD24TAC8,S2789H3AD379JKC35,|rh||ah|Board 3|sv|e|mb|1C|an|Minor suit opening -- 3+ !C; 11-21 HCP; 12-22 total points|mb|2H|an|Aggressive weak jump overcall -- 6+ !H; 4-10 HCP |mb|d|an|Negative double -- 4+ !S; 7+ HCP; 8+ total points |mb|4H|an|The Law: 10 trump -> game support -- 4+ total points |mb|4S|an|3+ !C; 4+ !S; 16-21 HCP; 17-22 total points|mb|p|mb|p|mb|p|pg||pc|DA|pc|D3|pc|D5|pc|D6|pg||pc|C8|pc|C3|pc|CJ|pc|CA|pg||pc|S4|pc|S5|pc|S8|pc|SJ|pg||pc|H5|pc|HJ|pc|HQ|pc|HA|pg||pc|S2|pc|SA|pc|ST|pc|S3|pg||pc|H2|pc|SK|pc|H4|pc|H3|pg||pc|D8|pc|D2|pc|DJ|pc|S6|pg||pc|SQ|pc|C6|pc|H7|pc|S7|pg||pc|H8|pc|C7|pc|HK|pc|S9|pg||pc|C5|pc|C2|pc|CT|pc|HT|pg||pc|CK|pc|H9|pc|D7|pc|C4|pg||pc|DQ|pc|D4|pc|DK|pc|H6|pg||pc|D9|pc|CQ|pc|C9|pc|DT|pg||'"
   ]
  },
  {
   "cell_type": "code",
   "execution_count": 4,
   "id": "86ccd5f5",
   "metadata": {},
   "outputs": [
    {
     "data": {
      "text/html": [
       "<iframe width=\"800\" height=\"600\" src=\"http://bridgebase.com/tools/handviewer.html?lin=pn|You,~~M7228oka,~~M72302cm,~~M72316sq|st||md|1S4TKHJD68QC679TKA,S35H479TQKD24TAC8,S2789H3AD379JKC35,|rh||ah|Board 3|sv|e|mb|1C|an|Minor suit opening -- 3+ !C; 11-21 HCP; 12-22 total points|mb|2H|an|Aggressive weak jump overcall -- 6+ !H; 4-10 HCP |mb|d|an|Negative double -- 4+ !S; 7+ HCP; 8+ total points |mb|4H|an|The Law: 10 trump -> game support -- 4+ total points |mb|4S|an|3+ !C; 4+ !S; 16-21 HCP; 17-22 total points|mb|p|mb|p|mb|p|pg||pc|DA|pc|D3|pc|D5|pc|D6|pg||pc|C8|pc|C3|pc|CJ|pc|CA|pg||pc|S4|pc|S5|pc|S8|pc|SJ|pg||pc|H5|pc|HJ|pc|HQ|pc|HA|pg||pc|S2|pc|SA|pc|ST|pc|S3|pg||pc|H2|pc|SK|pc|H4|pc|H3|pg||pc|D8|pc|D2|pc|DJ|pc|S6|pg||pc|SQ|pc|C6|pc|H7|pc|S7|pg||pc|H8|pc|C7|pc|HK|pc|S9|pg||pc|C5|pc|C2|pc|CT|pc|HT|pg||pc|CK|pc|H9|pc|D7|pc|C4|pg||pc|DQ|pc|D4|pc|DK|pc|H6|pg||pc|D9|pc|CQ|pc|C9|pc|DT|pg||\" />"
      ],
      "text/plain": [
       "<IPython.core.display.HTML object>"
      ]
     },
     "execution_count": 4,
     "metadata": {},
     "output_type": "execute_result"
    }
   ],
   "source": [
    "display_lin(lin)"
   ]
  },
  {
   "cell_type": "code",
   "execution_count": 5,
   "id": "8fa74a29",
   "metadata": {},
   "outputs": [
    {
     "name": "stdout",
     "output_type": "stream",
     "text": [
      "Board(dealer='S', vuln=[False, True], hands=['9872.A3.KJ973.53', 'J6AQ.8526.5.J24Q', 'KT4.J.Q86.AKT976', '53.KQT974.AT42.8'], auction=['1C', '2H', 'X', '4H', '4S', 'PASS', 'PASS', 'PASS'], play=['DA', 'D3', 'D5', 'D6', 'C8', 'C3', 'CJ', 'CA', 'S4', 'S5', 'S8', 'SJ', 'H5', 'HJ', 'HQ', 'HA', 'S2', 'SA', 'ST', 'S3', 'H2', 'SK', 'H4', 'H3', 'D8', 'D2', 'DJ', 'S6', 'SQ', 'C6', 'H7', 'S7', 'H8', 'C7', 'HK', 'S9', 'C5', 'C2', 'CT', 'HT', 'CK', 'H9', 'D7', 'C4', 'DQ', 'D4', 'DK', 'H6', 'D9', 'CQ', 'C9', 'DT'])\n"
     ]
    }
   ],
   "source": [
    "board = parse_lin(lin)\n",
    "print(board)"
   ]
  },
  {
   "cell_type": "code",
   "execution_count": 6,
   "id": "fb875929",
   "metadata": {},
   "outputs": [],
   "source": [
    "card_by_card = CardByCard(*board, models, sampler, False)"
   ]
  },
  {
   "cell_type": "code",
   "execution_count": 7,
   "id": "49c15172",
   "metadata": {},
   "outputs": [
    {
     "name": "stdout",
     "output_type": "stream",
     "text": [
      "analyzing the bidding\n"
     ]
    },
    {
     "name": "stderr",
     "output_type": "stream",
     "text": [
      "Loaded lib dds.dll\n"
     ]
    },
    {
     "name": "stdout",
     "output_type": "stream",
     "text": [
      "X Suggested bid from NN: CandidateBid(bid=3H  , insta_score=0.3398, expected_score=429.30, adjust=  17)\n",
      "X is not in the bids from the neural network\n",
      "4H Suggested bid from NN: CandidateBid(bid=PASS, insta_score=0.1076, expected_score=-301.90, adjust=   5)\n",
      "4H NN-values:CandidateBid(bid=4H  , insta_score=0.4577, expected_score=-344.38, adjust=  23)\n",
      "4S Suggested bid from NN: CandidateBid(bid=X   , insta_score=0.1381, expected_score=417.30, adjust=   7)\n",
      "4S NN-values:CandidateBid(bid=4S  , insta_score=0.1158, expected_score=338.95, adjust=   6)\n",
      "PASS Suggested bid from NN: CandidateBid(bid=X   , insta_score=0.1636, expected_score=46.11, adjust=   8)\n",
      "PASS NN-values:CandidateBid(bid=PASS, insta_score=0.3877, expected_score=14.44, adjust=  19)\n",
      "PASS OK NN-value: 0.462\n",
      "PASS Suggested bid from NN: CandidateBid(bid=5H  , insta_score=0.4640, expected_score=-383.33, adjust=  23)\n",
      "PASS NN-values:CandidateBid(bid=PASS, insta_score=0.5251, expected_score=-461.85, adjust=  26)\n",
      "analyzing opening lead\n",
      "DA\n",
      "DA OK\n",
      "analyzing play\n"
     ]
    },
    {
     "ename": "AttributeError",
     "evalue": "'NoneType' object has no attribute 'set_card_played'",
     "output_type": "error",
     "traceback": [
      "\u001b[1;31m---------------------------------------------------------------------------\u001b[0m",
      "\u001b[1;31mAttributeError\u001b[0m                            Traceback (most recent call last)",
      "Cell \u001b[1;32mIn[7], line 1\u001b[0m\n\u001b[1;32m----> 1\u001b[0m \u001b[38;5;28;01mawait\u001b[39;00m card_by_card\u001b[38;5;241m.\u001b[39manalyze()\n",
      "File \u001b[1;32md:\\github\\ben\\UCBC 2024\\Simulations\\../../src\\analysis.py:34\u001b[0m, in \u001b[0;36mCardByCard.analyze\u001b[1;34m(self)\u001b[0m\n\u001b[0;32m     32\u001b[0m \u001b[38;5;28mself\u001b[39m\u001b[38;5;241m.\u001b[39manalyze_opening_lead()\n\u001b[0;32m     33\u001b[0m \u001b[38;5;28mprint\u001b[39m(\u001b[38;5;124m'\u001b[39m\u001b[38;5;124manalyzing play\u001b[39m\u001b[38;5;124m'\u001b[39m)\n\u001b[1;32m---> 34\u001b[0m \u001b[38;5;28;01mawait\u001b[39;00m \u001b[38;5;28mself\u001b[39m\u001b[38;5;241m.\u001b[39manalyze_play()\n",
      "File \u001b[1;32md:\\github\\ben\\UCBC 2024\\Simulations\\../../src\\analysis.py:131\u001b[0m, in \u001b[0;36mCardByCard.analyze_play\u001b[1;34m(self)\u001b[0m\n\u001b[0;32m    129\u001b[0m \u001b[38;5;28;01mif\u001b[39;00m trick_i \u001b[38;5;241m==\u001b[39m \u001b[38;5;241m0\u001b[39m \u001b[38;5;129;01mand\u001b[39;00m player_i \u001b[38;5;241m==\u001b[39m \u001b[38;5;241m0\u001b[39m:\n\u001b[0;32m    130\u001b[0m     \u001b[38;5;28;01mfor\u001b[39;00m i, card_player \u001b[38;5;129;01min\u001b[39;00m \u001b[38;5;28menumerate\u001b[39m(card_players):\n\u001b[1;32m--> 131\u001b[0m         \u001b[43mcard_player\u001b[49m\u001b[38;5;241;43m.\u001b[39;49m\u001b[43mset_real_card_played\u001b[49m\u001b[43m(\u001b[49m\u001b[43mopening_lead52\u001b[49m\u001b[43m,\u001b[49m\u001b[43m \u001b[49m\u001b[38;5;241;43m0\u001b[39;49m\u001b[43m)\u001b[49m\n\u001b[0;32m    132\u001b[0m         card_player\u001b[38;5;241m.\u001b[39mset_card_played(trick_i\u001b[38;5;241m=\u001b[39mtrick_i, leader_i\u001b[38;5;241m=\u001b[39mleader_i, i\u001b[38;5;241m=\u001b[39m\u001b[38;5;241m0\u001b[39m, card\u001b[38;5;241m=\u001b[39mopening_lead)\n\u001b[0;32m    133\u001b[0m     \u001b[38;5;28;01mcontinue\u001b[39;00m\n",
      "File \u001b[1;32md:\\github\\ben\\UCBC 2024\\Simulations\\../../src\\bots.py:870\u001b[0m, in \u001b[0;36mCardPlayer.set_real_card_played\u001b[1;34m(self, card, playedBy, openinglead)\u001b[0m\n\u001b[0;32m    868\u001b[0m \u001b[38;5;28;01mdef\u001b[39;00m \u001b[38;5;21mset_real_card_played\u001b[39m(\u001b[38;5;28mself\u001b[39m, card, playedBy, openinglead\u001b[38;5;241m=\u001b[39m\u001b[38;5;28;01mFalse\u001b[39;00m):\n\u001b[0;32m    869\u001b[0m     \u001b[38;5;28;01mif\u001b[39;00m (\u001b[38;5;28mself\u001b[39m\u001b[38;5;241m.\u001b[39mplayer_i \u001b[38;5;241m==\u001b[39m \u001b[38;5;241m3\u001b[39m) \u001b[38;5;129;01mand\u001b[39;00m \u001b[38;5;28mself\u001b[39m\u001b[38;5;241m.\u001b[39mmodels\u001b[38;5;241m.\u001b[39mpimc_use:\n\u001b[1;32m--> 870\u001b[0m         \u001b[38;5;28;43mself\u001b[39;49m\u001b[38;5;241;43m.\u001b[39;49m\u001b[43mpimc\u001b[49m\u001b[38;5;241;43m.\u001b[39;49m\u001b[43mset_card_played\u001b[49m(card, playedBy, openinglead)\n",
      "\u001b[1;31mAttributeError\u001b[0m: 'NoneType' object has no attribute 'set_card_played'"
     ]
    }
   ],
   "source": [
    "await card_by_card.analyze()"
   ]
  },
  {
   "cell_type": "markdown",
   "id": "bf465259",
   "metadata": {},
   "source": [
    "the engine agrees with the bidding, but didn't like something in the cardplay.\n",
    "\n",
    "playing `S4` from hand is the first mistake. apparently this play drops almost half a trick on average."
   ]
  },
  {
   "cell_type": "code",
   "execution_count": null,
   "id": "d79d9389",
   "metadata": {},
   "outputs": [],
   "source": [
    "card_by_card.cards['S4'].to_dict()"
   ]
  },
  {
   "cell_type": "markdown",
   "id": "760b7b2f",
   "metadata": {},
   "source": [
    "the opening lead of `DA` is interesting. the engine prefers the `HK` and it's the only card it considers."
   ]
  },
  {
   "cell_type": "code",
   "execution_count": null,
   "id": "00c728a0",
   "metadata": {},
   "outputs": [],
   "source": [
    "card_by_card.cards['DA'].to_dict()"
   ]
  },
  {
   "cell_type": "code",
   "execution_count": null,
   "id": "e55103f4",
   "metadata": {},
   "outputs": [],
   "source": []
  }
 ],
 "metadata": {
  "kernelspec": {
   "display_name": "Python 3 (ipykernel)",
   "language": "python",
   "name": "python3"
  },
  "language_info": {
   "codemirror_mode": {
    "name": "ipython",
    "version": 3
   },
   "file_extension": ".py",
   "mimetype": "text/x-python",
   "name": "python",
   "nbconvert_exporter": "python",
   "pygments_lexer": "ipython3",
   "version": "3.11.0"
  }
 },
 "nbformat": 4,
 "nbformat_minor": 5
}
