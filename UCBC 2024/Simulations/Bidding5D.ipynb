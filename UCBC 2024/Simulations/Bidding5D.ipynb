{
 "cells": [
  {
   "cell_type": "markdown",
   "id": "75d07246",
   "metadata": {},
   "source": [
    "# Bidding\n",
    "\n",
    "This is a tutorial for how to use the bidding engine"
   ]
  },
  {
   "cell_type": "code",
   "execution_count": 1,
   "id": "59a5664c",
   "metadata": {},
   "outputs": [
    {
     "name": "stdout",
     "output_type": "stream",
     "text": [
      "WARNING:tensorflow:From c:\\Python311\\Lib\\site-packages\\tensorflow\\python\\compat\\v2_compat.py:107: disable_resource_variables (from tensorflow.python.ops.variable_scope) is deprecated and will be removed in a future version.\n",
      "Instructions for updating:\n",
      "non-resource variables are not supported in the long term\n",
      "Using old version of models\n",
      "INFO:tensorflow:Restoring parameters from ..\\Models/NS1EW99-bidding_same-5556000\n",
      "INFO:tensorflow:Restoring parameters from ..\\Models/NS1EW99-binfo_same-5556000\n",
      "INFO:tensorflow:Restoring parameters from ..\\Models/lead_suit-999000\n",
      "INFO:tensorflow:Restoring parameters from ..\\Models/lead_nt-475000\n",
      "INFO:tensorflow:Restoring parameters from ..\\Models/Jack/lr3-1000000\n",
      "INFO:tensorflow:Restoring parameters from ..\\Models/single_dummy-32768000\n",
      "INFO:tensorflow:Restoring parameters from ..\\Models/lefty_nt-475000\n",
      "INFO:tensorflow:Restoring parameters from ..\\Models/dummy_nt-475000\n",
      "INFO:tensorflow:Restoring parameters from ..\\Models/righty_nt-475000\n",
      "INFO:tensorflow:Restoring parameters from ..\\Models/decl_nt-950000\n",
      "INFO:tensorflow:Restoring parameters from ..\\Models/lefty_suit-999000\n",
      "INFO:tensorflow:Restoring parameters from ..\\Models/dummy_suit-999000\n",
      "INFO:tensorflow:Restoring parameters from ..\\Models/righty_suit-999000\n",
      "INFO:tensorflow:Restoring parameters from ..\\Models/decl_suit-1278000\n"
     ]
    }
   ],
   "source": [
    "import sys\n",
    "import os\n",
    "sys.path.append('../../src')\n",
    "os.environ['BEN_HOME'] = \"../..\"\n",
    "\n",
    "from nn.models import Models\n",
    "from bots import BotBid\n",
    "from util import hand_to_str\n",
    "from sample import Sample\n",
    "import conf\n",
    "import numpy as np\n",
    "\n",
    "np.set_printoptions(precision=2, suppress=True, linewidth=200)\n",
    "np.random.seed(42)\n",
    "\n",
    "models = Models.from_conf(conf.load('../Conf/UCBC2024.conf'),'..')   # loading neural networks\n",
    "sampler = Sample.from_conf(conf.load('../Conf/UCBC2024.conf'), False)  # Load sampling strategies"
   ]
  },
  {
   "cell_type": "markdown",
   "id": "10d8f2fc",
   "metadata": {},
   "source": [
    "### Running through an example"
   ]
  },
  {
   "cell_type": "code",
   "execution_count": 2,
   "id": "19dbfeb7",
   "metadata": {},
   "outputs": [
    {
     "name": "stdout",
     "output_type": "stream",
     "text": [
      "2\n",
      "3\n",
      "['1H', '1N', '2S']\n",
      "get_bid_candidates ['1H', '1N', '2S']\n",
      "LHO 1H\n",
      "PAR 1N\n",
      "RHO 2S\n"
     ]
    },
    {
     "name": "stderr",
     "output_type": "stream",
     "text": [
      "Loaded lib dds.dll\n"
     ]
    },
    {
     "data": {
      "text/plain": [
       "[{'call': '3D', 'insta_score': 0.388, 'expected_score': 254, 'adjustment': 19},\n",
       " {'call': 'PASS', 'insta_score': 0.453, 'expected_score': 4, 'adjustment': 23}]"
      ]
     },
     "execution_count": 2,
     "metadata": {},
     "output_type": "execute_result"
    }
   ],
   "source": [
    "# East deals, EW vulnerable.\n",
    "vuln_ns, vuln_ew = False, False\n",
    "\n",
    "# you sit West and hold:\n",
    "hand = 'J.J82.A98632.T52'\n",
    "\n",
    "# the auction goes:\n",
    "# (a few words about 'PAD_START':\n",
    "# the auction is padded to dealer North\n",
    "# if North is not dealer, than we have to put in a 'PAD_START' for every seat that was skipped\n",
    "# if East deals we have one pad (because North is skipped)\n",
    "# if South deals we have two pads (because North and East are skipped)\n",
    "# etc.)\n",
    "auction = [\"1H\", \"1N\", \"2S\"]\n",
    "bot_bid = BotBid([vuln_ns, vuln_ew], hand, models, sampler, seat=3, dealer=2, verbose=False)\n",
    "\n",
    "bid = bot_bid.bid(auction)\n",
    "bid.to_dict()['candidates']\n",
    "\n",
    "# what's your bid?"
   ]
  },
  {
   "cell_type": "code",
   "execution_count": 3,
   "id": "ce89b968",
   "metadata": {},
   "outputs": [
    {
     "data": {
      "text/plain": [
       "['8x.AQxxx.QJx.Kxx AKx.KTxx.Kx.Q8xx QT9xxxx.9.Tx.AJ9 J.J8x.A98xxx.Txx 0.84331 \\n 1H-1N-2S-P-P-P (9, 8.8, 8.6)  \\n 1H-1N-2S-3D-P-P-3H-3N-P-P-P (5, 6.3, 6.4) ',\n",
       " 'Axx.AKT9xx.x.J9x Kx.Qxx.KQJT.KQxx QT98xxx.x.xx.A8x J.J8x.A98xxx.Txx 0.81571 \\n 1H-1N-2S-P-P-P (11, 10.0, 10.5)  \\n 1H-1N-2S-3D-P-P-4H-X-4S-P-P-X-P-P-P (11, 10.0, 10.6) ',\n",
       " 'Ax.ATxxx.Tx.AJ8x Qxx.KQ9x.KQxx.Kx KT98xxx.x.J.Q9xx J.J8x.A98xxx.Txx 0.81217 \\n 1H-1N-2S-P-P-P (11, 10.9, 10.2)  \\n 1H-1N-2S-3D-P-P-4H-X-4S-P-P-X-P-P-P (11, 10.9, 10.1) ',\n",
       " 'Tx.KQT9x.Kx.QJxx AQ8.Axxx.Qx.A98x K9xxxxx.x.JTx.Kx J.J8x.A98xxx.Txx 0.81157 \\n 1H-1N-2S-P-P-P (8, 8.0, 7.9)  \\n 1H-1N-2S-3D-P-P-4H-X-4S-P-P-X-P-P-P (8, 8.0, 7.8) ',\n",
       " 'x.ATxxxx.Qxx.KQx AQ8x.KQ9x.Tx.AJx KT9xxxx..KJ.98xx J.J8x.A98xxx.Txx 0.79415 \\n 1H-1N-2S-P-P-P (7, 7.9, 7.9)  \\n 1H-1N-2S-3D-P-P-3H-3N-P-P-4H-X-P-P-P (5, 5.5, 6.0) ',\n",
       " 'ATx.ATxxxx.Qx.xx K9.KQ9.KTx.AQ98x Q8xxxxx.x.Jx.KJx J.J8x.A98xxx.Txx 0.76204 \\n 1H-1N-2S-P-P-P (9, 9.1, 9.1)  \\n 1H-1N-2S-3D-P-P-3H-3N-P-P-4H-X-P-P-P (6, 5.9, 6.9) ',\n",
       " '9xx.AK9xx.KT.J9x KT8.QTxx.QJx.AKx AQxxxx.x.xx.Q8xx J.J8x.A98xxx.Txx 0.76119 \\n 1H-1N-2S-P-P-P (9, 9.1, 8.5)  \\n 1H-1N-2S-3D-P-P-4H-X-P-P-P (7, 6.6, 6.5) ',\n",
       " '8xx.AQTxx.xx.A9x AQx.K9x.KJT.QJxx KT9xxx.xx.Qx.K8x J.J8x.A98xxx.Txx 0.75429 \\n 1H-1N-2S-P-P-P (8, 8.3, 8.0)  \\n 1H-1N-2S-3D-P-P-3H-3N-P-P-4H-X-P-P-P (6, 6.5, 6.5) ',\n",
       " '8.A9xxx.KQT.K9xx KQxx.KQTx.Jx.AJ8 AT9xxxx.x.xx.Qxx J.J8x.A98xxx.Txx 0.75272 \\n 1H-1N-2S-P-P-P (7, 8.2, 8.0)  \\n 1H-1N-2S-3D-P-P-4H-X-4S-P-P-X-P-P-P (7, 8.2, 7.8) ',\n",
       " '9x.AK9xx.Jx.KJxx KTx.Qxx.KQx.AQ9x AQ8xxxx.Tx.Tx.8x J.J8x.A98xxx.Txx 0.74803 \\n 1H-1N-2S-P-P-P (8, 8.4, 7.8)  \\n 1H-1N-2S-3D-P-P-4H-X-4S-P-P-X-P-P-P (8, 8.4, 8.3) ',\n",
       " 'Txxx.ATxxx.x.AQJ A8.K9xx.KQx.Kxxx KQ9xxx.Q.JTx.98x J.J8x.A98xxx.Txx 0.74783 \\n 1H-1N-2S-P-P-P (10, 9.6, 10.0)  \\n 1H-1N-2S-3D-P-P-4H-X-4S-P-P-X-P-P-P (10, 9.6, 10.1) ',\n",
       " 'xxx.AQTxx.xx.AKx AQ.K9xx.KQT.Q8xx KT98xxx.x.Jx.J9x J.J8x.A98xxx.Txx 0.74131 \\n 1H-1N-2S-P-P-P (10, 9.3, 9.4)  \\n 1H-1N-2S-3D-P-P-4H-X-4S-P-P-X-P-P-P (10, 9.3, 9.5) ',\n",
       " 'AKx.K9xxx.x.AQJx QTx.AQTx.KQxx.K8 98xxxx.x.JT.9xxx J.J8x.A98xxx.Txx 0.73786 \\n 1H-1N-2S-P-4S-P-4N-X-5D-X-5H-P-5S-P-6H-X-P-P-P (4, 4.3, 5.8)  \\n 1H-1N-2S-3D-4S-P-P-X-P-P-P (8, 9.0, 8.8) ',\n",
       " 'K8.AK9xx.JT.QJ8x Qxxx.QTx.KQxx.AK AT9xxx.xx.x.9xxx J.J8x.A98xxx.Txx 0.72852 \\n 1H-1N-2S-P-P-P (9, 8.4, 8.1)  \\n 1H-1N-2S-3D-P-P-4H-X-4S-P-P-X-P-P-P (9, 8.4, 8.1) ',\n",
       " 'AQ.KQxxxx.Qx.98x K8x.AT9x.Kxx.KQx T9xxxxx..JT.AJxx J.J8x.A98xxx.Txx 0.72742 \\n 1H-1N-2S-P-P-P (8, 8.9, 9.0)  \\n 1H-1N-2S-3D-3S-P-4H-X-4S-P-P-X-P-P-P (8, 8.9, 9.1) ',\n",
       " 'Kxx.AQ9xx.T.Q8xx Qxx.Txx.KQx.AKJx AT98xx.Kx.Jxx.9x J.J8x.A98xxx.Txx 0.72624 \\n 1H-1N-2S-P-P-P (10, 9.0, 9.2)  \\n 1H-1N-2S-3D-P-P-4H-X-4S-P-P-X-P-P-P (10, 9.0, 9.3) ',\n",
       " 'KQx.AKTxx.QTx.8x Axx.Q9xx.KJ.AQxx T98xxx.x.xx.KJ9x J.J8x.A98xxx.Txx 0.72091 \\n 1H-1N-2S-P-4S-P-P-X-P-P-P (9, 8.8, 8.7)  \\n 1H-1N-2S-3D-4S-P-P-X-P-P-P (9, 8.8, 8.7) ',\n",
       " 'Kx.AT9xx.xx.K8xx QTx.KQx.KQT.AJ9x A98xxxx.xx.Jx.Qx J.J8x.A98xxx.Txx 0.71630 \\n 1H-1N-2S-P-P-P (8, 8.5, 7.9)  \\n 1H-1N-2S-3D-P-P-3H-3N-P-P-4H-X-P-P-P (5, 5.8, 6.0) ',\n",
       " 'Kx.AQTxxx.Qx.8xx QTx.K9.KTxx.AKxx A98xxxx.xx.J.QJ9 J.J8x.A98xxx.Txx 0.71493 \\n 1H-1N-2S-P-P-P (8, 8.6, 8.4)  \\n 1H-1N-2S-3D-P-P-4H-X-P-P-P (8, 7.4, 8.2) ',\n",
       " 'AKxx.KQTxx.Tx.8x Tx.A9xx.KQx.AK9x Q98xxx.x.Jx.QJxx J.J8x.A98xxx.Txx 0.71395 \\n 1H-1N-2S-P-4S-P-P-X-P-P-P (8, 8.6, 8.4)  \\n 1H-1N-2S-3D-4S-P-P-X-P-P-P (8, 8.6, 8.4) ']"
      ]
     },
     "execution_count": 3,
     "metadata": {},
     "output_type": "execute_result"
    }
   ],
   "source": [
    "bid.samples"
   ]
  },
  {
   "cell_type": "code",
   "execution_count": 5,
   "id": "bfe98f56",
   "metadata": {},
   "outputs": [
    {
     "name": "stdout",
     "output_type": "stream",
     "text": [
      "2\n",
      "3\n",
      "['1H', '1N', '2S', '3D', '3S', 'PASS', '4S']\n",
      "get_bid_candidates ['1H', '1N', '2S', '3D', '3S', 'PASS', '4S']\n",
      "LHO 1H\n",
      "PAR 1N\n",
      "RHO 2S\n",
      "Me 3D\n",
      "LHO 3S\n",
      "PAR PASS\n",
      "RHO 4S\n"
     ]
    },
    {
     "data": {
      "text/plain": [
       "[{'call': 'PASS',\n",
       "  'insta_score': 0.628,\n",
       "  'expected_score': -194,\n",
       "  'adjustment': 314},\n",
       " {'call': 'X',\n",
       "  'insta_score': 0.228,\n",
       "  'expected_score': -275,\n",
       "  'adjustment': 114},\n",
       " {'call': '5D',\n",
       "  'insta_score': 0.143,\n",
       "  'expected_score': -590,\n",
       "  'adjustment': 71}]"
      ]
     },
     "execution_count": 5,
     "metadata": {},
     "output_type": "execute_result"
    }
   ],
   "source": [
    "auction = [\"1H\", \"1N\", \"2S\",\"3D\",\"3S\",\"PASS\",\"4S\"]\n",
    "bid = bot_bid.bid(auction)\n",
    "\n",
    "bid.to_dict()['candidates']"
   ]
  },
  {
   "cell_type": "markdown",
   "id": "ad120123",
   "metadata": {},
   "source": [
    "in the output above:\n",
    "- `insta_score` reflects what the neural network prefers to bid\n",
    "- `expected_score` is based on what you expect to score on difference samples (for example, 70% of the time you are making and 30% of the time you are going one off, then the expected score is 0.7 * 620 - 0.3 * 100)"
   ]
  },
  {
   "cell_type": "markdown",
   "id": "051ff121",
   "metadata": {},
   "source": [
    "### Samples consistent with the auction so far\n",
    "\n",
    "Above we said that we are computig expected scores on samples consistent with the auction so far.\n",
    "\n",
    "How do we get these samples?\n",
    "\n",
    "We get some samples in the response we get from the bot (i.e `bid.samples`)"
   ]
  },
  {
   "cell_type": "code",
   "execution_count": 6,
   "id": "55b647a5",
   "metadata": {},
   "outputs": [
    {
     "data": {
      "text/plain": [
       "['Q9x.QT9xx.Tx.AK8 Kxx.AKxx.Kxx.Qxx AT8xxx.x.QJ.J9xx J.J8x.A98xxx.Txx 0.54403 \\n 1H-1N-2S-3D-3S-P-4S-P-P-P (9, 9.2, 9.2)  \\n 1H-1N-2S-3D-3S-P-4S-X-P-P-P (9, 9.2, 9.2)  \\n 1H-1N-2S-3D-3S-P-4S-5D-P-P-X-P-P-P (9, 8.5, 8.4) ',\n",
       " 'AQTx.9xxxx..AQ8x xxx.AKTx.KQx.K9x K98xx.Q.JTxx.Jxx J.J8x.A98xxx.Txx 0.53757 \\n 1H-1N-2S-3D-3S-P-4S-P-P-P (10, 10.3, 10.3)  \\n 1H-1N-2S-3D-3S-P-4S-X-P-P-P (10, 10.3, 10.1)  \\n 1H-1N-2S-3D-3S-P-4S-5D-X-P-P-P (9, 8.3, 9.7) ',\n",
       " 'A9x.QT9xxx.J.KQ9 KTx.AKxx.KQT.xxx Q8xxxx..xxx.AJ8x J.J8x.A98xxx.Txx 0.53577 \\n 1H-1N-2S-3D-3S-P-4S-P-P-P (11, 10.8, 9.9)  \\n 1H-1N-2S-3D-3S-P-4S-X-P-P-P (11, 10.8, 9.6)  \\n 1H-1N-2S-3D-3S-P-4S-5D-P-P-X-P-P-P (6, 7.6, 8.6) ',\n",
       " 'A9xx.KQTxx.Qxx.Q KQx.A9xx.KJx.K9x T8xxx.x.T.AJ8xxx J.J8x.A98xxx.Txx 0.51854 \\n 1H-1N-2S-3D-3S-P-4S-P-P-P (9, 9.1, 9.1)  \\n 1H-1N-2S-3D-3S-P-4S-X-P-P-P (9, 9.1, 8.9)  \\n 1H-1N-2S-3D-3S-P-4S-5D-P-P-X-P-P-P (9, 8.0, 8.7) ',\n",
       " 'AQ8x.KQxxx.x.Q8x Kxx.ATx.KJT.A9xx T9xxx.9x.Qxx.KJx J.J8x.A98xxx.Txx 0.50689 \\n 1H-1N-2S-3D-3S-P-4S-P-P-P (9, 8.5, 8.9)  \\n 1H-1N-2S-3D-3S-P-4S-X-P-P-P (9, 8.5, 8.8)  \\n 1H-1N-2S-3D-3S-P-4S-5D-P-P-X-P-P-P (9, 9.1, 9.0) ',\n",
       " 'QT9x.KQT9xx.x.Ax AKx.Axxx.KJT.98x 8xxxx..Qxx.KQJxx J.J8x.A98xxx.Txx 0.50514 \\n 1H-1N-2S-3D-3S-P-4S-P-P-P (10, 9.4, 9.2)  \\n 1H-1N-2S-3D-3S-P-4S-X-P-P-P (10, 9.4, 9.1)  \\n 1H-1N-2S-3D-3S-P-4S-5D-X-P-P-P (7, 8.0, 8.4) ',\n",
       " 'Axx.KT9xx.Kx.98x KQx.Axx.QJTx.Kxx T98xxx.Qx.x.AQJx J.J8x.A98xxx.Txx 0.50349 \\n 1H-1N-2S-3D-3S-P-4S-P-P-P (9, 9.6, 8.9)  \\n 1H-1N-2S-3D-3S-P-4S-X-P-P-P (9, 9.6, 8.8)  \\n 1H-1N-2S-3D-3S-P-4S-5D-P-P-X-P-P-P (6, 7.7, 8.2) ',\n",
       " 'AQ9x.KT9xx.Q.K9x Txx.AQx.KJTx.AJx K8xxx.xx.xx.Q8xx J.J8x.A98xxx.Txx 0.48675 \\n 1H-1N-2S-3D-3S-P-4S-P-P-P (9, 8.4, 8.7)  \\n 1H-1N-2S-3D-3S-P-4S-X-P-P-P (9, 8.4, 8.5)  \\n 1H-1N-2S-3D-3S-P-4S-5D-P-P-X-P-P-P (10, 10.4, 10.5) ',\n",
       " 'K98x.AT9xx.Kx.9x Ax.KQxxx.QJx.KJ8 QTxxxx..Tx.AQxxx J.J8x.A98xxx.Txx 0.48490 \\n 1H-1N-2S-3D-3S-P-4S-P-P-P (11, 10.9, 10.4)  \\n 1H-1N-2S-3D-3S-P-4S-X-P-P-P (11, 10.9, 10.2)  \\n 1H-1N-2S-3D-3S-P-4S-5D-P-P-X-P-P-P (7, 7.3, 8.6) ',\n",
       " 'QTxx.KQTxxx.Q.Kx A9x.A9xx.KJT.QJ8 K8xxx..xxx.A9xxx J.J8x.A98xxx.Txx 0.48409 \\n 1H-1N-2S-3D-3S-P-4S-P-P-P (11, 9.8, 9.7)  \\n 1H-1N-2S-3D-3S-P-4S-X-P-P-P (11, 9.8, 9.7)  \\n 1H-1N-2S-3D-3S-P-4S-5D-X-P-P-P (7, 8.8, 9.1) ']"
      ]
     },
     "execution_count": 6,
     "metadata": {},
     "output_type": "execute_result"
    }
   ],
   "source": [
    "bid.samples"
   ]
  }
 ],
 "metadata": {
  "kernelspec": {
   "display_name": "Python 3 (ipykernel)",
   "language": "python",
   "name": "python3"
  },
  "language_info": {
   "codemirror_mode": {
    "name": "ipython",
    "version": 3
   },
   "file_extension": ".py",
   "mimetype": "text/x-python",
   "name": "python",
   "nbconvert_exporter": "python",
   "pygments_lexer": "ipython3",
   "version": "3.11.0"
  }
 },
 "nbformat": 4,
 "nbformat_minor": 5
}
