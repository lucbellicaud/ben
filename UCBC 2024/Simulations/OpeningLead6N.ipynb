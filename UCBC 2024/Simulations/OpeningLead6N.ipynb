{
 "cells": [
  {
   "cell_type": "markdown",
   "id": "170af530",
   "metadata": {},
   "source": [
    "# Opening Lead\n",
    "\n",
    "Checking the opening lead for a specific contract"
   ]
  },
  {
   "cell_type": "code",
   "execution_count": 1,
   "id": "26570686",
   "metadata": {},
   "outputs": [
    {
     "name": "stdout",
     "output_type": "stream",
     "text": [
      "WARNING:tensorflow:From c:\\Python311\\Lib\\site-packages\\tensorflow\\python\\compat\\v2_compat.py:107: disable_resource_variables (from tensorflow.python.ops.variable_scope) is deprecated and will be removed in a future version.\n",
      "Instructions for updating:\n",
      "non-resource variables are not supported in the long term\n",
      "Using old version of models\n",
      "INFO:tensorflow:Restoring parameters from ..\\Models/NS1EW99-bidding_same-5556000\n",
      "INFO:tensorflow:Restoring parameters from ..\\Models/NS1EW99-binfo_same-5556000\n",
      "INFO:tensorflow:Restoring parameters from ..\\Models/lead_suit-999000\n",
      "INFO:tensorflow:Restoring parameters from ..\\Models/lead_nt-475000\n",
      "INFO:tensorflow:Restoring parameters from ..\\Models/Jack/lr3-1000000\n",
      "INFO:tensorflow:Restoring parameters from ..\\Models/single_dummy-32768000\n",
      "INFO:tensorflow:Restoring parameters from ..\\Models/lefty_nt-475000\n",
      "INFO:tensorflow:Restoring parameters from ..\\Models/dummy_nt-475000\n",
      "INFO:tensorflow:Restoring parameters from ..\\Models/righty_nt-475000\n",
      "INFO:tensorflow:Restoring parameters from ..\\Models/decl_nt-950000\n",
      "INFO:tensorflow:Restoring parameters from ..\\Models/lefty_suit-999000\n",
      "INFO:tensorflow:Restoring parameters from ..\\Models/dummy_suit-999000\n",
      "INFO:tensorflow:Restoring parameters from ..\\Models/righty_suit-999000\n",
      "INFO:tensorflow:Restoring parameters from ..\\Models/decl_suit-1278000\n"
     ]
    }
   ],
   "source": [
    "import os\n",
    "import sys\n",
    "sys.path.append('../../src')\n",
    "os.environ['BEN_HOME'] = \"../..\"\n",
    "\n",
    "from nn.models import Models\n",
    "from bots import BotLead\n",
    "from sample import Sample\n",
    "import conf\n",
    "import numpy as np\n",
    "\n",
    "np.set_printoptions(precision=2, suppress=True, linewidth=200)\n",
    "np.random.seed(42)\n",
    "\n",
    "models = Models.from_conf(conf.load('../Conf/UCBC2024.conf'),'..')   # loading neural networks\n",
    "sampler = Sample.from_conf(conf.load('../Conf/UCBC2024.conf'), False)  # Load sampling strategies"
   ]
  },
  {
   "cell_type": "code",
   "execution_count": 2,
   "id": "c3397678",
   "metadata": {},
   "outputs": [
    {
     "name": "stdout",
     "output_type": "stream",
     "text": [
      "Finding opening lead for auction ['PAD_START', 'PAD_START', 'PAD_START', '2N', 'PASS', '3C', 'PASS', '3D', 'PASS', '6N', 'PASS', 'PASS', 'PASS'], True\n"
     ]
    },
    {
     "name": "stderr",
     "output_type": "stream",
     "text": [
      "Loaded lib dds.dll\n"
     ]
    }
   ],
   "source": [
    "# both vulnerable. you are sitting North as dealer and you hold\n",
    "hand = 'QJT75.86.63.AT52'\n",
    "\n",
    "# the auction goes:\n",
    "auction = [\"PAD_START\", \"PAD_START\", \"PAD_START\", \"2N\", \"PASS\", \"3C\", \"PASS\", \"3D\", \"PASS\", \"6N\", \"PASS\", \"PASS\", \"PASS\"]\n",
    "\n",
    "# what to lead?\n",
    "\n",
    "lead_bot = BotLead([False, False], hand, models, sampler, 0, False)\n",
    "lead = lead_bot.find_opening_lead(auction)"
   ]
  },
  {
   "cell_type": "code",
   "execution_count": 3,
   "id": "a2b5fe25",
   "metadata": {},
   "outputs": [
    {
     "data": {
      "text/plain": [
       "SQ"
      ]
     },
     "execution_count": 3,
     "metadata": {},
     "output_type": "execute_result"
    }
   ],
   "source": [
    "lead.card"
   ]
  },
  {
   "cell_type": "markdown",
   "id": "02e88396",
   "metadata": {},
   "source": [
    "seems like the engine chose to lead the ace of diamonds\n",
    "\n",
    "the other options it considered were: a small spade and a small club"
   ]
  },
  {
   "cell_type": "code",
   "execution_count": 4,
   "id": "956ef356",
   "metadata": {},
   "outputs": [
    {
     "data": {
      "text/plain": [
       "[{'card': 'SQ',\n",
       "  'insta_score': 0.769,\n",
       "  'expected_tricks_sd': 10.43,\n",
       "  'p_make_contract': 0.74},\n",
       " {'card': 'Dx',\n",
       "  'insta_score': 0.097,\n",
       "  'expected_tricks_sd': 10.76,\n",
       "  'p_make_contract': 0.67},\n",
       " {'card': 'Sx',\n",
       "  'insta_score': 0.05,\n",
       "  'expected_tricks_sd': 10.79,\n",
       "  'p_make_contract': 0.62}]"
      ]
     },
     "execution_count": 4,
     "metadata": {},
     "output_type": "execute_result"
    }
   ],
   "source": [
    "lead.to_dict()['candidates']"
   ]
  },
  {
   "cell_type": "markdown",
   "id": "97efc5a1",
   "metadata": {},
   "source": [
    "in the above output:\n",
    "- `insta_score` reflects the preference of the neural network\n",
    "- `expected_tricks` how many tricks declarer is expected to take on this lead\n",
    "- `p_make_contract` is the probability of the contract making on this lead\n",
    "\n",
    "the probability of making and the expected tricks are computed on samples which are consistent with the auction. the samples are estimated single dummy using a neural network (more on this in another tutorial). we could also solve the samples double dummy, but that would be quite a bit slower."
   ]
  },
  {
   "cell_type": "code",
   "execution_count": 5,
   "id": "7cb2bf98",
   "metadata": {},
   "outputs": [
    {
     "data": {
      "text/plain": [
       "['QJTxx.8x.xx.ATxx 8xx.AQxx.QTx.J98 9x.JT9x.98x.Kxxx AKx.Kxx.AKJxx.Qx 0.77064',\n",
       " 'QJTxx.8x.xx.ATxx 98x.KQJxxx.QJx.x xxx.Tx.KTxxx.J9x AK.A9x.A98.KQ8xx 0.74461',\n",
       " 'QJTxx.8x.xx.ATxx Axx.ATxxx.JT9x.x 9xx.QJ9.8x.J98xx K8.Kxx.AKQxx.KQx 0.74460',\n",
       " 'QJTxx.8x.xx.ATxx Axxx.T9xxx.KJT.x x.QJxx.Q8xx.98xx K98.AK.A9xx.KQJx 0.74436',\n",
       " 'QJTxx.8x.xx.ATxx Axx.9x.Kxx.Q98xx xx.QJTxxx.98x.xx K98.AKx.AQJTx.KJ 0.75621',\n",
       " 'QJTxx.8x.xx.ATxx 9xxx.ATx.Jx.KQxx 8.J9xxx.T98xx.J8 AKx.KQx.AKQx.9xx 0.78609',\n",
       " 'QJTxx.8x.xx.ATxx K98.JTxx.Txx.J8x xx.AQ9xx.98x.Q9x Axx.Kx.AKQJx.Kxx 0.73441',\n",
       " 'QJTxx.8x.xx.ATxx 8xx.KQJxxx.x.8xx A9x.xx.JTxxx.Q9x Kx.AT9.AKQ98.KJx 0.73358',\n",
       " 'QJTxx.8x.xx.ATxx 8xxxx.KQT.AQx.xx .J9xxx.J98xx.98x AK9.Axx.KTx.KQJx 0.74746',\n",
       " 'QJTxx.8x.xx.ATxx A8xx.AJ9x.Tx.9xx x.Txxxx.KJ9x.8xx K9x.KQ.AQ8xx.KQJ 0.76463',\n",
       " 'QJTxx.8x.xx.ATxx 98xx.QJxxx.x.Q8x x.A9xx.QJT98x.Jx AKx.KT.AKxx.K9xx 0.70449',\n",
       " 'QJTxx.8x.xx.ATxx A8xxx.KQ.98x.98x x.JT9xxx.Qxxx.xx K9.Axx.AKJT.KQJx 0.74348',\n",
       " 'QJTxx.8x.xx.ATxx K9x.AK9x.J8x.98x 8x.Jxxxx.Txx.Jxx Axx.QT.AKQ9x.KQx 0.77731',\n",
       " 'QJTxx.8x.xx.ATxx xx.AKT9x.Jxxx.9x 9xx.Jxx.Q8x.Qxxx AK8.Qxx.AKT9.KJ8 0.74996',\n",
       " 'QJTxx.8x.xx.ATxx Ax.KJT9xx.9xxx.x 8xx.xxx.Q8x.QJ8x K9x.AQ.AKJT.K9xx 0.74311',\n",
       " 'QJTxx.8x.xx.ATxx Kxx.KT9x.T9x.9xx 9xx.AQJx.8xxx.8x A8.xxx.AKQJ.KQJx 0.73947',\n",
       " 'QJTxx.8x.xx.ATxx 8x.AQJT9x.KTxx.J 9xxx.xx.Q9.8xxxx AK.Kxx.AJ8xx.KQ9 0.73987',\n",
       " 'QJTxx.8x.xx.ATxx Kxxx.Kx.JT98.8xx 98.QJT9xx.Qxx.J9 Ax.Axx.AKxx.KQxx 0.74723',\n",
       " 'QJTxx.8x.xx.ATxx Axxx.KQTxx.x.J98 98.9xx.QT98xx.xx Kx.AJx.AKJx.KQxx 0.74415',\n",
       " 'QJTxx.8x.xx.ATxx 9x.QT9xx.QTx.KJx 8xx.xxx.AJ9x.8xx AKx.AKJ.K8xx.Q9x 0.73649']"
      ]
     },
     "execution_count": 5,
     "metadata": {},
     "output_type": "execute_result"
    }
   ],
   "source": [
    "# each row is one sample board\n",
    "# the hands are in the order: LHO, Partner, RHO. Your cards are not shown as they are fixed/\n",
    "\n",
    "lead.samples"
   ]
  }
 ],
 "metadata": {
  "kernelspec": {
   "display_name": "Python 3 (ipykernel)",
   "language": "python",
   "name": "python3"
  },
  "language_info": {
   "codemirror_mode": {
    "name": "ipython",
    "version": 3
   },
   "file_extension": ".py",
   "mimetype": "text/x-python",
   "name": "python",
   "nbconvert_exporter": "python",
   "pygments_lexer": "ipython3",
   "version": "3.11.0"
  }
 },
 "nbformat": 4,
 "nbformat_minor": 5
}
