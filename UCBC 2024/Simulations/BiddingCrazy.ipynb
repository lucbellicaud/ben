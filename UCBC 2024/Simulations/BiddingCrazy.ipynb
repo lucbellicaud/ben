{
 "cells": [
  {
   "cell_type": "markdown",
   "id": "75d07246",
   "metadata": {},
   "source": [
    "# Bidding\n",
    "\n",
    "This is a tutorial for how to use the bidding engine"
   ]
  },
  {
   "cell_type": "code",
   "execution_count": null,
   "id": "59a5664c",
   "metadata": {},
   "outputs": [],
   "source": [
    "import sys\n",
    "import os\n",
    "sys.path.append('../../src')\n",
    "os.environ['BEN_HOME'] = \"../..\"\n",
    "\n",
    "import logging\n",
    "\n",
    "# Set logging level to suppress warnings\n",
    "logging.getLogger().setLevel(logging.ERROR)\n",
    "# Just disables the warnings\n",
    "os.environ['TF_CPP_MIN_LOG_LEVEL'] = '2'\n",
    "from nn.models import Models\n",
    "from bots import BotBid\n",
    "from bidding import bidding\n",
    "from util import hand_to_str\n",
    "from deck52 import random_deal\n",
    "from sample import Sample\n",
    "import conf\n",
    "import numpy as np\n",
    "\n",
    "np.set_printoptions(precision=2, suppress=True, linewidth=200)\n",
    "np.random.seed(42)"
   ]
  },
  {
   "cell_type": "code",
   "execution_count": null,
   "id": "44786d5d",
   "metadata": {},
   "outputs": [],
   "source": [
    "models = Models.from_conf(conf.load('../Conf/UCBC2024.conf'),'..')   # loading neural networks\n",
    "models.search_threshold = 0.07\n",
    "models.double_dummy_eval = True\n",
    "# Filter to remove hands not consistent with the bidding. Used during play\n",
    "models.bid_accept_play_threshold = 0.01\n",
    "sampler = Sample.from_conf(conf.load('../Conf/UCBC2024.conf'), False)  # Load sampling strategies\n",
    "#sampler.use_distance = False\n",
    "#sampler.bidding_threshold_sampling = 0.25\n"
   ]
  },
  {
   "cell_type": "markdown",
   "id": "669da023",
   "metadata": {},
   "source": [
    "### Bidding through an entire auction for all four hands\n",
    "\n",
    "Now we'll take a random deal and let the bot bid for each hand. We assume North deals and nobody is vulnerable.\n",
    "\n",
    "This script was used to detect the reason for some strange bidding. But the error is fixed, so this should look normal now"
   ]
  },
  {
   "cell_type": "code",
   "execution_count": null,
   "id": "fc27ca79",
   "metadata": {},
   "outputs": [],
   "source": [
    "\n",
    "hands = [\"AJ.KJ9.A9764.AJ8\",\"T853.AT65.Q8.T52\", \"K976.Q874.KT.K74\", \"Q42.32.J532.Q963\"]\n",
    "#hands = ['AKQJTx.AQTx.Ax.x', 'xxx.Kx.KT8x.KJxx', 'x.J98xxxx.9.QTxx', '98x..QJxxxx.A98x']"
   ]
  },
  {
   "cell_type": "code",
   "execution_count": null,
   "id": "d480cbba",
   "metadata": {},
   "outputs": [],
   "source": [
    "# North is dealer\n",
    "dealer = 0\n",
    "bidder_bots = [BotBid([False, True], hand, models, sampler, i, dealer, False) for i, hand in enumerate(hands)]"
   ]
  },
  {
   "cell_type": "code",
   "execution_count": null,
   "id": "7d77351a",
   "metadata": {},
   "outputs": [],
   "source": [
    "auction = [] \n",
    "\n",
    "turn_i = 0 # whose turn is it to bid\n",
    "step = 0\n",
    "\n",
    "while not bidding.auction_over(auction):\n",
    "    bid = bidder_bots[turn_i].bid(auction)\n",
    "    #if step== 5:\n",
    "    #     bid.bid='X'\n",
    "    #if step== 1:\n",
    "    #     bid.bid='PASS'\n",
    "    print(bid.to_dict())\n",
    "    auction.append(bid.bid)\n",
    "    turn_i = (turn_i + 1) % 4  # next player's turn\n",
    "    step += 1\n",
    "print(auction)"
   ]
  }
 ],
 "metadata": {
  "kernelspec": {
   "display_name": "Python 3 (ipykernel)",
   "language": "python",
   "name": "python3"
  },
  "language_info": {
   "codemirror_mode": {
    "name": "ipython",
    "version": 3
   },
   "file_extension": ".py",
   "mimetype": "text/x-python",
   "name": "python",
   "nbconvert_exporter": "python",
   "pygments_lexer": "ipython3",
   "version": "3.11.0"
  }
 },
 "nbformat": 4,
 "nbformat_minor": 5
}
