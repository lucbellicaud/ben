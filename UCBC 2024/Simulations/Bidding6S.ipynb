{
 "cells": [
  {
   "cell_type": "markdown",
   "id": "75d07246",
   "metadata": {},
   "source": [
    "# Bidding\n",
    "\n",
    "This is a tutorial for how to use the bidding engine"
   ]
  },
  {
   "cell_type": "code",
   "execution_count": 1,
   "id": "59a5664c",
   "metadata": {},
   "outputs": [
    {
     "name": "stdout",
     "output_type": "stream",
     "text": [
      "WARNING:tensorflow:From c:\\Python311\\Lib\\site-packages\\tensorflow\\python\\compat\\v2_compat.py:107: disable_resource_variables (from tensorflow.python.ops.variable_scope) is deprecated and will be removed in a future version.\n",
      "Instructions for updating:\n",
      "non-resource variables are not supported in the long term\n",
      "INFO:tensorflow:Restoring parameters from ..\\Models/NS1EW99-bidding_same-3362000\n",
      "INFO:tensorflow:Restoring parameters from ..\\Models/NS1EW99-binfo_same-2082000\n",
      "INFO:tensorflow:Restoring parameters from ..\\Models/lead_suit-999000\n",
      "INFO:tensorflow:Restoring parameters from ..\\Models/lead_nt-475000\n",
      "INFO:tensorflow:Restoring parameters from ..\\Models/Jack/lr3-1000000\n",
      "INFO:tensorflow:Restoring parameters from ..\\Models/single_dummy-32768000\n",
      "INFO:tensorflow:Restoring parameters from ..\\Models/lefty_nt-475000\n",
      "INFO:tensorflow:Restoring parameters from ..\\Models/dummy_nt-475000\n",
      "INFO:tensorflow:Restoring parameters from ..\\Models/righty_nt-475000\n",
      "INFO:tensorflow:Restoring parameters from ..\\Models/decl_nt-950000\n",
      "INFO:tensorflow:Restoring parameters from ..\\Models/lefty_suit-999000\n",
      "INFO:tensorflow:Restoring parameters from ..\\Models/dummy_suit-999000\n",
      "INFO:tensorflow:Restoring parameters from ..\\Models/righty_suit-999000\n",
      "INFO:tensorflow:Restoring parameters from ..\\Models/decl_suit-1278000\n"
     ]
    }
   ],
   "source": [
    "import sys\n",
    "import os\n",
    "sys.path.append('../../src')\n",
    "os.environ['BEN_HOME'] = \"../..\"\n",
    "import logging\n",
    "\n",
    "# Set logging level to suppress warnings\n",
    "logging.getLogger().setLevel(logging.ERROR)\n",
    "# Just disables the warnings\n",
    "os.environ['TF_CPP_MIN_LOG_LEVEL'] = '2'\n",
    "\n",
    "from nn.models import Models\n",
    "from bots import BotBid\n",
    "from util import hand_to_str\n",
    "from sample import Sample\n",
    "import conf\n",
    "import numpy as np\n",
    "\n",
    "np.set_printoptions(precision=2, suppress=True, linewidth=200)\n",
    "np.random.seed(42)\n",
    "\n",
    "models = Models.from_conf(conf.load('../Conf/UCBC2024V2.conf'),'..')   # loading neural networks\n",
    "sampler = Sample.from_conf(conf.load('../Conf/UCBC2024V2.conf'), False)  # Load sampling strategies\n"
   ]
  },
  {
   "cell_type": "markdown",
   "id": "10d8f2fc",
   "metadata": {},
   "source": [
    "### Running through an example"
   ]
  },
  {
   "cell_type": "code",
   "execution_count": 2,
   "id": "19dbfeb7",
   "metadata": {},
   "outputs": [
    {
     "name": "stdout",
     "output_type": "stream",
     "text": [
      "get_bid_candidates []\n",
      "[[[ 1.   99.    0.    1.    0.5   1.   -0.14  0.43 -1.29  0.    0.    1.    0.    0.    0.    0.    4.    0.    0.    1.    1.    0.    0.    0.    1.    1.    1.    0.    0.    1.    0.    0.\n",
      "    1.    0.    0.    0.    0.    0.    0.    0.    1.    1.    0.    0.    0.    0.    0.    0.    0.    0.    0.    0.    0.    0.    0.    0.    0.    0.    0.    0.    0.    0.    0.    0.\n",
      "    0.    0.    0.    0.    0.    0.    0.    0.    0.    0.    0.    0.    0.    0.    0.    0.    0.    1.    0.    0.    0.    0.    0.    0.    0.    0.    0.    0.    0.    0.    0.    0.\n",
      "    0.    0.    0.    0.    0.    0.    0.    0.    0.    0.    0.    0.    0.    0.    0.    0.    0.    0.    0.    0.    0.    0.    0.    0.    0.    1.    0.    0.    0.    0.    0.    0.\n",
      "    0.    0.    0.    0.    0.    0.    0.    0.    0.    0.    0.    0.    0.    0.    0.    0.    0.    0.    0.    0.    0.    0.    0.    0.    0.    0.    0.    0.    0.    0.    0.    0.\n",
      "    0.    1.    0.    0.    0.    0.    0.    0.    0.    0.    0.    0.    0.    0.    0.    0.    0.    0.    0.    0.    0.    0.    0.    0.    0.    0.    0.    0.    0.    0.    0.    0.\n",
      "    0.    0.    0.    0.    0.    0.    0.    0.    0.  ]]]\n"
     ]
    },
    {
     "data": {
      "text/plain": [
       "[{'call': '1S', 'insta_score': 0.999}]"
      ]
     },
     "execution_count": 2,
     "metadata": {},
     "output_type": "execute_result"
    }
   ],
   "source": [
    "# East deals, EW vulnerable.\n",
    "vuln_ns, vuln_ew = False, True\n",
    "\n",
    "# you sit West as dealer and hold:\n",
    "hand = 'Q6542.QJ7.AKT6.7'\n",
    "\n",
    "auction = []\n",
    "bot_bid = BotBid([vuln_ns, vuln_ew], hand, models, sampler, 2, 2, False)\n",
    "\n",
    "bid = bot_bid.bid(auction)\n",
    "bid.to_dict()['candidates']\n",
    "\n",
    "# what's your bid?"
   ]
  },
  {
   "cell_type": "code",
   "execution_count": 3,
   "metadata": {},
   "outputs": [
    {
     "data": {
      "text/plain": [
       "[]"
      ]
     },
     "execution_count": 3,
     "metadata": {},
     "output_type": "execute_result"
    }
   ],
   "source": [
    "bid.samples"
   ]
  },
  {
   "cell_type": "code",
   "execution_count": 4,
   "id": "bfe98f56",
   "metadata": {},
   "outputs": [
    {
     "name": "stdout",
     "output_type": "stream",
     "text": [
      "get_bid_candidates ['1S', 'PASS', '2N', 'PASS']\n",
      "Me 1S\n",
      "LHO PASS\n",
      "PAR 2N\n",
      "RHO PASS\n",
      "[[[ 1.   99.    0.    1.    0.5   1.   -0.14  0.43 -1.29  0.    0.    1.    0.    0.    0.    0.    4.    0.    0.    1.    1.    0.    0.    0.    1.    1.    1.    0.    0.    1.    0.    0.\n",
      "    1.    0.    0.    0.    0.    0.    0.    0.    1.    1.    0.    0.    0.    0.    0.    0.    0.    0.    0.    0.    0.    0.    0.    0.    0.    0.    0.    0.    0.    0.    0.    0.\n",
      "    0.    0.    0.    0.    0.    0.    0.    0.    0.    0.    0.    0.    0.    0.    0.    0.    0.    1.    0.    0.    0.    0.    0.    0.    0.    0.    0.    0.    0.    0.    0.    0.\n",
      "    0.    0.    0.    0.    0.    0.    0.    0.    0.    0.    0.    0.    0.    0.    0.    0.    0.    0.    0.    0.    0.    0.    0.    0.    0.    1.    0.    0.    0.    0.    0.    0.\n",
      "    0.    0.    0.    0.    0.    0.    0.    0.    0.    0.    0.    0.    0.    0.    0.    0.    0.    0.    0.    0.    0.    0.    0.    0.    0.    0.    0.    0.    0.    0.    0.    0.\n",
      "    0.    1.    0.    0.    0.    0.    0.    0.    0.    0.    0.    0.    0.    0.    0.    0.    0.    0.    0.    0.    0.    0.    0.    0.    0.    0.    0.    0.    0.    0.    0.    0.\n",
      "    0.    0.    0.    0.    0.    0.    0.    0.    0.  ]\n",
      "  [ 1.   99.    0.    1.    0.5   1.   -0.14  0.43 -1.29  0.    0.    1.    0.    0.    0.    0.    4.    0.    0.    1.    1.    0.    0.    0.    1.    1.    1.    0.    0.    1.    0.    0.\n",
      "    1.    0.    0.    0.    0.    0.    0.    0.    1.    0.    0.    0.    0.    0.    0.    0.    0.    1.    0.    0.    0.    0.    0.    0.    0.    0.    0.    0.    0.    0.    0.    0.\n",
      "    0.    0.    0.    0.    0.    0.    0.    0.    0.    0.    0.    0.    0.    0.    0.    0.    0.    0.    0.    1.    0.    0.    0.    0.    0.    0.    0.    0.    0.    0.    0.    0.\n",
      "    0.    0.    0.    0.    0.    0.    0.    0.    0.    0.    0.    0.    0.    0.    0.    0.    0.    0.    0.    0.    0.    0.    0.    0.    0.    0.    0.    0.    0.    0.    0.    0.\n",
      "    0.    0.    0.    0.    0.    0.    0.    1.    0.    0.    0.    0.    0.    0.    0.    0.    0.    0.    0.    0.    0.    0.    0.    0.    0.    0.    0.    0.    0.    0.    0.    0.\n",
      "    0.    0.    0.    1.    0.    0.    0.    0.    0.    0.    0.    0.    0.    0.    0.    0.    0.    0.    0.    0.    0.    0.    0.    0.    0.    0.    0.    0.    0.    0.    0.    0.\n",
      "    0.    0.    0.    0.    0.    0.    0.    0.    0.  ]]]\n"
     ]
    },
    {
     "data": {
      "text/plain": [
       "[{'call': '3C', 'insta_score': 0.998}]"
      ]
     },
     "execution_count": 4,
     "metadata": {},
     "output_type": "execute_result"
    }
   ],
   "source": [
    "auction = [\"1S\", \"PASS\", \"2N\",\"PASS\"]\n",
    "bid = bot_bid.bid(auction)\n",
    "\n",
    "bid.to_dict()['candidates']"
   ]
  },
  {
   "cell_type": "code",
   "execution_count": 5,
   "id": "55b647a5",
   "metadata": {},
   "outputs": [
    {
     "data": {
      "text/plain": [
       "[]"
      ]
     },
     "execution_count": 5,
     "metadata": {},
     "output_type": "execute_result"
    }
   ],
   "source": [
    "bid.samples"
   ]
  },
  {
   "cell_type": "code",
   "execution_count": 6,
   "id": "7101e514",
   "metadata": {},
   "outputs": [
    {
     "name": "stdout",
     "output_type": "stream",
     "text": [
      "get_bid_candidates ['1S', 'PASS', '2N', 'PASS', '3C', 'X', 'PASS', 'PASS']\n",
      "Me 1S\n",
      "LHO PASS\n",
      "PAR 2N\n",
      "RHO PASS\n",
      "Me 3C\n",
      "LHO X\n",
      "PAR PASS\n",
      "RHO PASS\n",
      "[[[ 1.   99.    0.    1.    0.5   1.   -0.14  0.43 -1.29  0.    0.    1.    0.    0.    0.    0.    4.    0.    0.    1.    1.    0.    0.    0.    1.    1.    1.    0.    0.    1.    0.    0.\n",
      "    1.    0.    0.    0.    0.    0.    0.    0.    1.    1.    0.    0.    0.    0.    0.    0.    0.    0.    0.    0.    0.    0.    0.    0.    0.    0.    0.    0.    0.    0.    0.    0.\n",
      "    0.    0.    0.    0.    0.    0.    0.    0.    0.    0.    0.    0.    0.    0.    0.    0.    0.    1.    0.    0.    0.    0.    0.    0.    0.    0.    0.    0.    0.    0.    0.    0.\n",
      "    0.    0.    0.    0.    0.    0.    0.    0.    0.    0.    0.    0.    0.    0.    0.    0.    0.    0.    0.    0.    0.    0.    0.    0.    0.    1.    0.    0.    0.    0.    0.    0.\n",
      "    0.    0.    0.    0.    0.    0.    0.    0.    0.    0.    0.    0.    0.    0.    0.    0.    0.    0.    0.    0.    0.    0.    0.    0.    0.    0.    0.    0.    0.    0.    0.    0.\n",
      "    0.    1.    0.    0.    0.    0.    0.    0.    0.    0.    0.    0.    0.    0.    0.    0.    0.    0.    0.    0.    0.    0.    0.    0.    0.    0.    0.    0.    0.    0.    0.    0.\n",
      "    0.    0.    0.    0.    0.    0.    0.    0.    0.  ]\n",
      "  [ 1.   99.    0.    1.    0.5   1.   -0.14  0.43 -1.29  0.    0.    1.    0.    0.    0.    0.    4.    0.    0.    1.    1.    0.    0.    0.    1.    1.    1.    0.    0.    1.    0.    0.\n",
      "    1.    0.    0.    0.    0.    0.    0.    0.    1.    0.    0.    0.    0.    0.    0.    0.    0.    1.    0.    0.    0.    0.    0.    0.    0.    0.    0.    0.    0.    0.    0.    0.\n",
      "    0.    0.    0.    0.    0.    0.    0.    0.    0.    0.    0.    0.    0.    0.    0.    0.    0.    0.    0.    1.    0.    0.    0.    0.    0.    0.    0.    0.    0.    0.    0.    0.\n",
      "    0.    0.    0.    0.    0.    0.    0.    0.    0.    0.    0.    0.    0.    0.    0.    0.    0.    0.    0.    0.    0.    0.    0.    0.    0.    0.    0.    0.    0.    0.    0.    0.\n",
      "    0.    0.    0.    0.    0.    0.    0.    1.    0.    0.    0.    0.    0.    0.    0.    0.    0.    0.    0.    0.    0.    0.    0.    0.    0.    0.    0.    0.    0.    0.    0.    0.\n",
      "    0.    0.    0.    1.    0.    0.    0.    0.    0.    0.    0.    0.    0.    0.    0.    0.    0.    0.    0.    0.    0.    0.    0.    0.    0.    0.    0.    0.    0.    0.    0.    0.\n",
      "    0.    0.    0.    0.    0.    0.    0.    0.    0.  ]\n",
      "  [ 1.   99.    0.    1.    0.5   1.   -0.14  0.43 -1.29  0.    0.    1.    0.    0.    0.    0.    4.    0.    0.    1.    1.    0.    0.    0.    1.    1.    1.    0.    0.    1.    0.    0.\n",
      "    1.    0.    0.    0.    0.    0.    0.    0.    1.    0.    0.    0.    0.    0.    0.    0.    0.    0.    0.    0.    0.    0.    0.    0.    1.    0.    0.    0.    0.    0.    0.    0.\n",
      "    0.    0.    0.    0.    0.    0.    0.    0.    0.    0.    0.    0.    0.    0.    0.    0.    0.    0.    0.    0.    1.    0.    0.    0.    0.    0.    0.    0.    0.    0.    0.    0.\n",
      "    0.    0.    0.    0.    0.    0.    0.    0.    0.    0.    0.    0.    0.    0.    0.    0.    0.    0.    0.    0.    0.    0.    0.    0.    0.    0.    0.    1.    0.    0.    0.    0.\n",
      "    0.    0.    0.    0.    0.    0.    0.    0.    0.    0.    0.    0.    0.    0.    0.    0.    0.    0.    0.    0.    0.    0.    0.    0.    0.    0.    0.    0.    0.    0.    0.    0.\n",
      "    0.    0.    0.    1.    0.    0.    0.    0.    0.    0.    0.    0.    0.    0.    0.    0.    0.    0.    0.    0.    0.    0.    0.    0.    0.    0.    0.    0.    0.    0.    0.    0.\n",
      "    0.    0.    0.    0.    0.    0.    0.    0.    0.  ]]]\n"
     ]
    },
    {
     "name": "stderr",
     "output_type": "stream",
     "text": [
      "Loaded lib dds.dll\n"
     ]
    },
    {
     "data": {
      "text/plain": [
       "[{'call': '4S',\n",
       "  'insta_score': 0.664,\n",
       "  'expected_score': 168,\n",
       "  'adjustment': 332},\n",
       " {'call': '3D', 'insta_score': 0.113, 'expected_score': 97, 'adjustment': 57},\n",
       " {'call': '4D', 'insta_score': 0.087, 'expected_score': 184, 'adjustment': 44}]"
      ]
     },
     "execution_count": 6,
     "metadata": {},
     "output_type": "execute_result"
    }
   ],
   "source": [
    "auction = [\"1S\", \"PASS\", \"2N\", \"PASS\",\"3C\",\"X\",\"PASS\",\"PASS\"]\n",
    "bid = bot_bid.bid(auction)\n",
    "\n",
    "bid.to_dict()['candidates']"
   ]
  },
  {
   "cell_type": "code",
   "execution_count": 7,
   "metadata": {},
   "outputs": [
    {
     "data": {
      "text/plain": [
       "['KT98x.x.J8xxx.Kx AJ.T98x.xx.J8xxx Qxxxx.QJx.AKTx.x x.AKxxx.Q9.AQT9x 0.42572 \\n 1S-P-2N-P-3C-X-P-P-4S-P-P-P (10, 9.7, 9.5)  \\n 1S-P-2N-P-3C-X-P-P-3D-P-P-P (9, 9.0, 9.5)  \\n 1S-P-2N-P-3C-X-P-P-4D-X-P-P-P (9, 9.0, 9.3) ',\n",
       " 'AKxx.8.QJ8x.ATxx T98.Kxxx.xxx.8xx Qxxxx.QJx.AKTx.x J.AT9xx.9x.KQJ9x 0.40538 \\n 1S-P-2N-P-3C-X-P-P-4S-P-P-P (12, 11.8, 11.5)  \\n 1S-P-2N-P-3C-X-P-P-3D-P-P-P (11, 11.5, 11.4)  \\n 1S-P-2N-P-3C-X-P-P-4D-P-P-P (11, 11.5, 11.4) ',\n",
       " 'JTx.Tx.8xxx.K9xx K8x.K98xx.xx.JTx Qxxxx.QJx.AKTx.x A9.Axx.QJ9.AQ8xx 0.39751 \\n 1S-P-2N-P-3C-X-P-P-4S-P-P-P (7, 6.8, 7.0)  \\n 1S-P-2N-P-3C-X-P-P-3D-P-P-P (7, 6.2, 6.7)  \\n 1S-P-2N-P-3C-X-P-P-4D-P-P-P (7, 6.2, 6.7) ',\n",
       " 'J9x.T.Q9xxxx.JTx KTx.K98x.J.A8xxx Qxxxx.QJx.AKTx.x A8.Axxxx.8x.KQ9x 0.39102 \\n 1S-P-2N-P-3C-X-P-P-4S-P-P-P (7, 6.9, 7.2)  \\n 1S-P-2N-P-3C-X-P-P-3D-P-P-P (8, 8.2, 8.6)  \\n 1S-P-2N-P-3C-X-P-P-4D-X-P-P-P (8, 8.2, 8.8) ',\n",
       " 'AJ9.Ax.Jxxxx.KJx 8xx.8xx.Qx.8xxxx Qxxxx.QJx.AKTx.x KT.KT9xx.98.AQT9 0.38511 \\n 1S-P-2N-P-3C-X-P-P-4S-P-P-P (12, 11.2, 10.5)  \\n 1S-P-2N-P-3C-X-P-P-3D-P-P-P (12, 11.5, 10.7)  \\n 1S-P-2N-P-3C-X-P-P-4D-X-P-P-P (12, 11.5, 10.7) ',\n",
       " 'Tx..J9xxxx.KT9xx J98x.K9xx.Qx.A8x Qxxxx.QJx.AKTx.x AK.AT8xxx.8.QJxx 0.38087 \\n 1S-P-2N-P-3C-X-P-P-4S-P-P-P (7, 5.2, 6.3)  \\n 1S-P-2N-P-3C-X-P-P-3D-P-P-P (10, 9.0, 9.2)  \\n 1S-P-2N-P-3C-X-P-P-4D-X-P-P-P (10, 9.0, 9.2) ',\n",
       " 'AJ8.x.QJ98xxx.Ax KT.Txxx.x.QJT8xx Qxxxx.QJx.AKTx.x 9xx.AK98x.x.K9xx 0.37957 \\n 1S-P-2N-P-3C-X-P-P-4S-P-P-P (11, 9.7, 11.1)  \\n 1S-P-2N-P-3C-X-P-P-3D-P-P-P (11, 10.4, 11.2)  \\n 1S-P-2N-P-3C-X-P-P-4D-X-P-P-P (11, 10.4, 11.2) ',\n",
       " 'AK8x.x.Q98xx.Kxx 9x.T8xxxx.xx.JT8 Qxxxx.QJx.AKTx.x JT.AK9.Jx.AQ9xxx 0.37636 \\n 1S-P-2N-P-3C-X-P-P-4S-P-P-P (11, 10.9, 10.8)  \\n 1S-P-2N-P-3C-X-P-P-3D-P-P-P (11, 10.9, 10.8)  \\n 1S-P-2N-P-3C-X-P-P-4D-P-P-P (11, 10.9, 10.8) ',\n",
       " 'KJ8.T.J8xxx.KT9x Tx.K98xxx.9x.Jxx Qxxxx.QJx.AKTx.x A9x.Axx.Qx.AQ8xx 0.37624 \\n 1S-P-2N-P-3C-X-P-P-4S-P-P-P (9, 9.0, 8.9)  \\n 1S-P-2N-P-3C-X-P-P-3D-P-P-P (10, 9.4, 9.3)  \\n 1S-P-2N-P-3C-X-P-P-4D-P-P-P (10, 9.4, 9.3) ',\n",
       " 'T9x.AT.QJ9xxx.KT J8x.8xxxx..J98xx Qxxxx.QJx.AKTx.x AK.K9x.8xx.AQxxx 0.37103 \\n 1S-P-2N-P-3C-X-P-P-4S-P-P-P (8, 8.3, 8.9)  \\n 1S-P-2N-P-3C-X-P-P-3D-P-P-P (10, 9.2, 9.5)  \\n 1S-P-2N-P-3C-X-P-P-4D-P-P-P (10, 9.2, 9.5) ']"
      ]
     },
     "execution_count": 7,
     "metadata": {},
     "output_type": "execute_result"
    }
   ],
   "source": [
    "bid.samples"
   ]
  },
  {
   "cell_type": "code",
   "execution_count": 8,
   "metadata": {},
   "outputs": [
    {
     "name": "stdout",
     "output_type": "stream",
     "text": [
      "get_bid_candidates ['1S', 'PASS', '2N', 'PASS', '3C', 'X', 'PASS', 'PASS', '4S', 'PASS', 'PASS', '5C']\n",
      "Me 1S\n",
      "LHO PASS\n",
      "PAR 2N\n",
      "RHO PASS\n",
      "Me 3C\n",
      "LHO X\n",
      "PAR PASS\n",
      "RHO PASS\n",
      "Me 4S\n",
      "LHO PASS\n",
      "PAR PASS\n",
      "RHO 5C\n",
      "[[[ 1.   99.    0.    1.    0.5   1.   -0.14  0.43 -1.29  0.    0.    1.    0.    0.    0.    0.    4.    0.    0.    1.    1.    0.    0.    0.    1.    1.    1.    0.    0.    1.    0.    0.\n",
      "    1.    0.    0.    0.    0.    0.    0.    0.    1.    1.    0.    0.    0.    0.    0.    0.    0.    0.    0.    0.    0.    0.    0.    0.    0.    0.    0.    0.    0.    0.    0.    0.\n",
      "    0.    0.    0.    0.    0.    0.    0.    0.    0.    0.    0.    0.    0.    0.    0.    0.    0.    1.    0.    0.    0.    0.    0.    0.    0.    0.    0.    0.    0.    0.    0.    0.\n",
      "    0.    0.    0.    0.    0.    0.    0.    0.    0.    0.    0.    0.    0.    0.    0.    0.    0.    0.    0.    0.    0.    0.    0.    0.    0.    1.    0.    0.    0.    0.    0.    0.\n",
      "    0.    0.    0.    0.    0.    0.    0.    0.    0.    0.    0.    0.    0.    0.    0.    0.    0.    0.    0.    0.    0.    0.    0.    0.    0.    0.    0.    0.    0.    0.    0.    0.\n",
      "    0.    1.    0.    0.    0.    0.    0.    0.    0.    0.    0.    0.    0.    0.    0.    0.    0.    0.    0.    0.    0.    0.    0.    0.    0.    0.    0.    0.    0.    0.    0.    0.\n",
      "    0.    0.    0.    0.    0.    0.    0.    0.    0.  ]\n",
      "  [ 1.   99.    0.    1.    0.5   1.   -0.14  0.43 -1.29  0.    0.    1.    0.    0.    0.    0.    4.    0.    0.    1.    1.    0.    0.    0.    1.    1.    1.    0.    0.    1.    0.    0.\n",
      "    1.    0.    0.    0.    0.    0.    0.    0.    1.    0.    0.    0.    0.    0.    0.    0.    0.    1.    0.    0.    0.    0.    0.    0.    0.    0.    0.    0.    0.    0.    0.    0.\n",
      "    0.    0.    0.    0.    0.    0.    0.    0.    0.    0.    0.    0.    0.    0.    0.    0.    0.    0.    0.    1.    0.    0.    0.    0.    0.    0.    0.    0.    0.    0.    0.    0.\n",
      "    0.    0.    0.    0.    0.    0.    0.    0.    0.    0.    0.    0.    0.    0.    0.    0.    0.    0.    0.    0.    0.    0.    0.    0.    0.    0.    0.    0.    0.    0.    0.    0.\n",
      "    0.    0.    0.    0.    0.    0.    0.    1.    0.    0.    0.    0.    0.    0.    0.    0.    0.    0.    0.    0.    0.    0.    0.    0.    0.    0.    0.    0.    0.    0.    0.    0.\n",
      "    0.    0.    0.    1.    0.    0.    0.    0.    0.    0.    0.    0.    0.    0.    0.    0.    0.    0.    0.    0.    0.    0.    0.    0.    0.    0.    0.    0.    0.    0.    0.    0.\n",
      "    0.    0.    0.    0.    0.    0.    0.    0.    0.  ]\n",
      "  [ 1.   99.    0.    1.    0.5   1.   -0.14  0.43 -1.29  0.    0.    1.    0.    0.    0.    0.    4.    0.    0.    1.    1.    0.    0.    0.    1.    1.    1.    0.    0.    1.    0.    0.\n",
      "    1.    0.    0.    0.    0.    0.    0.    0.    1.    0.    0.    0.    0.    0.    0.    0.    0.    0.    0.    0.    0.    0.    0.    0.    1.    0.    0.    0.    0.    0.    0.    0.\n",
      "    0.    0.    0.    0.    0.    0.    0.    0.    0.    0.    0.    0.    0.    0.    0.    0.    0.    0.    0.    0.    1.    0.    0.    0.    0.    0.    0.    0.    0.    0.    0.    0.\n",
      "    0.    0.    0.    0.    0.    0.    0.    0.    0.    0.    0.    0.    0.    0.    0.    0.    0.    0.    0.    0.    0.    0.    0.    0.    0.    0.    0.    1.    0.    0.    0.    0.\n",
      "    0.    0.    0.    0.    0.    0.    0.    0.    0.    0.    0.    0.    0.    0.    0.    0.    0.    0.    0.    0.    0.    0.    0.    0.    0.    0.    0.    0.    0.    0.    0.    0.\n",
      "    0.    0.    0.    1.    0.    0.    0.    0.    0.    0.    0.    0.    0.    0.    0.    0.    0.    0.    0.    0.    0.    0.    0.    0.    0.    0.    0.    0.    0.    0.    0.    0.\n",
      "    0.    0.    0.    0.    0.    0.    0.    0.    0.  ]\n",
      "  [ 1.   99.    0.    1.    0.5   1.   -0.14  0.43 -1.29  0.    0.    1.    0.    0.    0.    0.    4.    0.    0.    1.    1.    0.    0.    0.    1.    1.    1.    0.    0.    1.    0.    0.\n",
      "    1.    0.    0.    0.    0.    0.    0.    0.    1.    0.    0.    0.    0.    0.    0.    0.    0.    0.    0.    0.    0.    0.    0.    0.    0.    0.    0.    0.    0.    0.    0.    0.\n",
      "    1.    0.    0.    0.    0.    0.    0.    0.    0.    0.    0.    0.    0.    0.    0.    0.    0.    0.    0.    1.    0.    0.    0.    0.    0.    0.    0.    0.    0.    0.    0.    0.\n",
      "    0.    0.    0.    0.    0.    0.    0.    0.    0.    0.    0.    0.    0.    0.    0.    0.    0.    0.    0.    0.    0.    0.    0.    0.    0.    0.    0.    1.    0.    0.    0.    0.\n",
      "    0.    0.    0.    0.    0.    0.    0.    0.    0.    0.    0.    0.    0.    0.    0.    0.    0.    0.    0.    0.    0.    0.    0.    0.    0.    0.    0.    0.    0.    0.    0.    0.\n",
      "    0.    0.    0.    0.    0.    0.    0.    0.    0.    0.    0.    0.    0.    0.    0.    0.    0.    0.    0.    0.    0.    0.    0.    0.    0.    0.    1.    0.    0.    0.    0.    0.\n",
      "    0.    0.    0.    0.    0.    0.    0.    0.    0.  ]]]\n"
     ]
    },
    {
     "data": {
      "text/plain": [
       "[{'call': 'X', 'insta_score': 0.695, 'expected_score': 520, 'adjustment': 348},\n",
       " {'call': 'PASS',\n",
       "  'insta_score': 0.159,\n",
       "  'expected_score': 130,\n",
       "  'adjustment': 79},\n",
       " {'call': '5S', 'insta_score': 0.137, 'expected_score': 38, 'adjustment': 69}]"
      ]
     },
     "execution_count": 8,
     "metadata": {},
     "output_type": "execute_result"
    }
   ],
   "source": [
    "auction = [\"1S\", \"PASS\", \"2N\", \"PASS\",\"3C\",\"X\",\"PASS\",\"PASS\",\"4S\",\"PASS\",\"PASS\",\"5C\"]\n",
    "bid = bot_bid.bid(auction)\n",
    "\n",
    "bid.to_dict()['candidates']"
   ]
  },
  {
   "cell_type": "code",
   "execution_count": 9,
   "metadata": {},
   "outputs": [
    {
     "data": {
      "text/plain": [
       "['KT9x.xx.Jxx.T8xx 8.AKT8xx.Q8xx.Qx Qxxxx.QJx.AKTx.x AJx.9x.9x.AKJ9xx 0.16634 \\n 1S-P-2N-P-3C-X-P-P-4S-P-P-5C-X-P-P-P (10, 9.3, 10.0)  \\n 1S-P-2N-P-3C-X-P-P-4S-P-P-5C-P-P-P (10, 9.3, 10.0)  \\n 1S-P-2N-P-3C-X-P-P-4S-P-P-5C-5S-P-P-P (9, 8.4, 8.6) ',\n",
       " 'AJ9x.Txx.8xxx.8x 8.K9xx.Q9x.QJxxx Qxxxx.QJx.AKTx.x KTx.A8x.Jx.AKT9x 0.15750 \\n 1S-P-2N-P-3C-X-P-P-4S-P-P-5C-X-P-P-P (9, 9.5, 9.8)  \\n 1S-P-2N-P-3C-X-P-P-4S-P-P-5C-P-P-P (9, 9.5, 10.3)  \\n 1S-P-2N-P-3C-X-P-P-4S-P-P-5C-5S-P-P-P (9, 8.9, 8.8) ',\n",
       " 'AKxx.8.QJ8xx.ATx T98.Kxxx.xx.8xxx Qxxxx.QJx.AKTx.x J.AT9xx.9x.KQJ9x 0.15563 \\n 1S-P-2N-P-3C-X-P-P-4S-P-P-5C-X-P-P-P (7, 7.7, 7.8)  \\n 1S-P-2N-P-3C-X-P-P-4S-P-P-5C-P-P-P (7, 7.7, 7.9)  \\n 1S-P-2N-P-3C-X-P-P-4S-P-P-5C-5S-P-P-P (12, 11.8, 11.5) ',\n",
       " 'JT8x.T.8xxx.K9xx Kx.K98xxx.xx.JTx Qxxxx.QJx.AKTx.x A9.Axx.QJ9.AQ8xx 0.14972 \\n 1S-P-2N-P-3C-X-P-P-4S-P-P-5C-X-P-P-P (8, 9.6, 9.2)  \\n 1S-P-2N-P-3C-X-P-P-4S-P-P-5C-P-P-P (8, 9.6, 9.2)  \\n 1S-P-2N-P-3C-X-P-P-4S-P-P-5C-5S-P-P-P (8, 8.2, 8.4) ',\n",
       " '8x.Kxx.QJ9xx.K9x 9x.T98x.8xxx.AJT Qxxxx.QJx.AKTx.x AKJT.Axx..Q8xxxx 0.14666 \\n 1S-P-2N-P-3C-X-P-P-4S-P-P-5C-X-P-P-P (11, 10.2, 10.8)  \\n 1S-P-2N-P-3C-X-P-P-4S-P-P-5C-P-P-P (11, 10.2, 10.8)  \\n 1S-P-2N-P-3C-X-P-P-4S-P-P-5C-5S-P-P-P (5, 5.6, 6.8) ',\n",
       " 'KJ8.T.98xxx.KT9x Tx.K98xxx.Jx.Jxx Qxxxx.QJx.AKTx.x A9x.Axx.Qx.AQ8xx 0.13809 \\n 1S-P-2N-P-3C-X-P-P-4S-P-P-5C-X-P-P-P (7, 7.7, 7.8)  \\n 1S-P-2N-P-3C-X-P-P-4S-P-P-5C-P-P-P (7, 7.7, 7.8)  \\n 1S-P-2N-P-3C-X-P-P-4S-P-P-5C-5S-P-P-P (9, 8.9, 8.5) ',\n",
       " 'AKxx.x.Q98x.KJxx 98.T8xxxx.xxx.T8 Qxxxx.QJx.AKTx.x JT.AK9.Jx.AQ9xxx 0.13277 \\n 1S-P-2N-P-3C-X-P-P-4S-P-P-5C-X-P-P-P (6, 5.7, 6.4)  \\n 1S-P-2N-P-3C-X-P-P-4S-P-P-5C-P-P-P (6, 5.7, 6.5)  \\n 1S-P-2N-P-3C-X-P-P-4S-P-P-5C-5S-P-P-P (11, 11.1, 10.8) ',\n",
       " 'KT98.xxx.J8xx.Kx AJ.98x.xxx.J8xxx Qxxxx.QJx.AKTx.x xx.AKTx.Q9.AQT9x 0.12848 \\n 1S-P-2N-P-3C-X-P-P-4S-P-P-5C-X-P-P-P (9, 9.2, 9.7)  \\n 1S-P-2N-P-3C-X-P-P-4S-P-P-5C-P-P-P (9, 9.2, 9.7)  \\n 1S-P-2N-P-3C-X-P-P-4S-P-P-5C-5S-P-P-P (8, 8.4, 8.7) ',\n",
       " 'AKJx.x.8xxxx.Qxx 8x.AT9xx.9x.JT9x Qxxxx.QJx.AKTx.x T9.K8xx.QJ.AK8xx 0.12667 \\n 1S-P-2N-P-3C-X-P-P-4S-P-P-5C-X-P-P-P (7, 8.4, 8.7)  \\n 1S-P-2N-P-3C-X-P-P-4S-P-P-5C-P-P-P (7, 8.4, 8.7)  \\n 1S-P-2N-P-3C-X-P-P-4S-P-P-5C-5S-P-P-P (11, 10.0, 10.1) ',\n",
       " 'KT98x.8.9xx.K8xx Ax.9xxx.Qxx.AJ9x Qxxxx.QJx.AKTx.x J.AKTxx.J8x.QTxx 0.11934 \\n 1S-P-2N-P-3C-X-P-P-4S-P-P-5C-X-P-P-P (11, 9.0, 9.5)  \\n 1S-P-2N-P-3C-X-P-P-4S-P-P-5C-P-P-P (11, 9.0, 9.5)  \\n 1S-P-2N-P-3C-X-P-P-4S-P-P-5C-5S-P-P-P (9, 9.0, 9.2) ']"
      ]
     },
     "execution_count": 9,
     "metadata": {},
     "output_type": "execute_result"
    }
   ],
   "source": [
    "bid.samples"
   ]
  },
  {
   "cell_type": "code",
   "execution_count": 10,
   "metadata": {},
   "outputs": [
    {
     "name": "stdout",
     "output_type": "stream",
     "text": [
      "get_bid_candidates ['1S', 'PASS', '2N', 'PASS', '3C', 'X', 'PASS', 'PASS', '4S', 'PASS', 'PASS', '5C', 'X', 'PASS', '5S', 'PASS']\n",
      "Me 1S\n",
      "LHO PASS\n",
      "PAR 2N\n",
      "RHO PASS\n",
      "Me 3C\n",
      "LHO X\n",
      "PAR PASS\n",
      "RHO PASS\n",
      "Me 4S\n",
      "LHO PASS\n",
      "PAR PASS\n",
      "RHO 5C\n",
      "Me X\n",
      "LHO PASS\n",
      "PAR 5S\n",
      "RHO PASS\n",
      "[[[ 1. 99.  0. ...  0.  0.  0.]\n",
      "  [ 1. 99.  0. ...  0.  0.  0.]\n",
      "  [ 1. 99.  0. ...  0.  0.  0.]\n",
      "  [ 1. 99.  0. ...  0.  0.  0.]\n",
      "  [ 1. 99.  0. ...  0.  0.  0.]]]\n"
     ]
    },
    {
     "data": {
      "text/plain": [
       "[{'call': 'PASS',\n",
       "  'insta_score': 0.984,\n",
       "  'expected_score': 131,\n",
       "  'adjustment': 492},\n",
       " {'call': '6S', 'insta_score': 0.01, 'expected_score': 101, 'adjustment': 5}]"
      ]
     },
     "execution_count": 10,
     "metadata": {},
     "output_type": "execute_result"
    }
   ],
   "source": [
    "auction = [\"1S\", \"PASS\", \"2N\", \"PASS\",\"3C\",\"X\",\"PASS\",\"PASS\",\"4S\",\"PASS\",\"PASS\",\"5C\",\"X\",\"PASS\",\"5S\",\"PASS\"]\n",
    "bid = bot_bid.bid(auction)\n",
    "\n",
    "bid.to_dict()['candidates']"
   ]
  },
  {
   "cell_type": "code",
   "execution_count": null,
   "metadata": {},
   "outputs": [],
   "source": [
    "bid.samples"
   ]
  },
  {
   "cell_type": "code",
   "execution_count": null,
   "metadata": {},
   "outputs": [],
   "source": []
  }
 ],
 "metadata": {
  "kernelspec": {
   "display_name": "Python 3 (ipykernel)",
   "language": "python",
   "name": "python3"
  },
  "language_info": {
   "codemirror_mode": {
    "name": "ipython",
    "version": 3
   },
   "file_extension": ".py",
   "mimetype": "text/x-python",
   "name": "python",
   "nbconvert_exporter": "python",
   "pygments_lexer": "ipython3",
   "version": "3.11.0"
  }
 },
 "nbformat": 4,
 "nbformat_minor": 5
}
